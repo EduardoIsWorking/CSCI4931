{
 "cells": [
  {
   "cell_type": "markdown",
   "metadata": {},
   "source": [
    "# Homework-2\n",
    "* CSCI-4931 : Deep Learning\n",
    "* Fall 2025\n",
    "* Instructor: Ashis Kumer Biswas\n",
    "\n"
   ]
  },
  {
   "cell_type": "markdown",
   "metadata": {},
   "source": [
    "* Please assign your name, and declare collaborators (if any) to the variables below:"
   ]
  },
  {
   "cell_type": "code",
   "execution_count": 1,
   "metadata": {},
   "outputs": [],
   "source": [
    "my_name = \"Eduardo Galvez\"\n",
    "collaborators = \" \""
   ]
  },
  {
   "cell_type": "markdown",
   "metadata": {},
   "source": [
    "## Little Background about the problem\n",
    "\n",
    "`Customer churn`` occurs when customers stop doing business with a company, also known as customer attrition. It is also referred to as loss of clients or customers.\n",
    "\n",
    "You are given sensitive information of 9,000 of an European Bank, EBQ. Your task is to build an Artificial Neural Network (ANN) based on the dataset such that later the ANN model can predict correctly who is going to leave next. This predictive analysis is vital for the EBQ bank to revise their business strategy towards customer retention. What do you think?\n",
    "\n",
    "Anyway, you are recruited by the bank to do the data science. And, the head of the bank only trusts heads, i.e., brains…. I mean neural networks for making any decisions. And luckily you were in Dr. B’s class and you know something(?) about the ANN that you could successfully convince the head of the bank during the interview. He has put a lot of faith in you. Now, can you solve his problem?\n",
    "\n",
    "Tasks:\n",
    "\n",
    "1. Please download the zip file, `hw2-deliverables.zip``. Unzip it in your workspace. Here below is the file hierarchy of \"hw2-deliverables/\" folder:\n",
    "\n",
    "```\n",
    "hw2-deliverables\n",
    "├── 2025-Fall-DL-hw2.ipynb\n",
    "├── dataset\n",
    "│   └── datasetX.csv\n",
    "├── figures\n",
    "│   ├── le.png\n",
    "│   ├── nn-1.png\n",
    "│   ├── nn-1.svg\n",
    "│   ├── nn-2.png\n",
    "│   ├── nn-2.svg\n",
    "│   ├── nn-3.png\n",
    "│   ├── nn-3.svg\n",
    "│   └── ohe.png\n",
    "└── saved_models\n",
    "```\n",
    "As you can see you will mostly be working with the `2025-Fall-DL-hw2.ipynb`, i.e., the jupyter notebook. The notebook accesses the dataset files: `dataset/datasetX.csv` containing few customer information and is labeled (i.e., the target column, `Exited` is present). Here below is a brief summary of the features you will find in the datasets:\n",
    "\n",
    "* `CustomerId`: a unique identifier for each customer within the dataset. These values are not ordered sequentially within the dataset, and are only used to identify a specific customer. It typically does not have any influence to whether a customer leaves the business.\n",
    "* `Surname`: A string used to identify the customer in the dataset. Surname may be distinct amidst all or most customers. Because of this, it most likely won't affect the target variable. \n",
    "* `CreditScore`: a numeric representation of the customer's individual fiscal credit score. Typically used to indicate eligibility for loans. Current credit scores use a range from 300 to 850, but the FICO auto score range uses 250-900. This feature likely determines retention rate of customers. \n",
    "* `Geography`: this feature contains a categorical string representing the name of a country the customer is from originally. \n",
    "* `Gender`: this feature contains a categorical string representing the gender of the customer (\"Male\"/\"Female\"). \n",
    "* `Age`: a numerical integer representation of a customer's age. Intuition suggests that older customers are likely to have higher retention than younger customers.\n",
    "* `Tenure`: a numerical integer representation. It is assumed that this feature represents the number of total years the customer has been retained. It is likely that customers which have been retained longer will continue to be retained.\n",
    "* `Balance`: a numerical floating point number (to two decimal places of precision) indicating the customer's current bank balance (assumed total across all accounts). Customers with a greater balance may be less likely to exit the account due to difficulty of transfer. \n",
    "* `NumOfProducts`: numeric integer value. It is assumed that this value represents the number of accounts (products) that this customer has open. Further evaluation of this feature would be needed to determine the usefulness of this feature, but at face-value, intuition dictates that a customer with more products is less likely to exit. \n",
    "* `HasCrCard`: boolean flag (0 or 1) representing whether the customer has a credit card or not. \n",
    "* `IsActiveMember`: boolean flag (0 or 1) representing whether the customer is an active member of the bank. It is assumed this indicates whether the customer has transactions on the regular banking statement. Intuition dictates that inactive members are more likely to exit. \n",
    "* `EstimatedSalary`: numerical floating point representation of the customer's predicted salary (to two decomal places) intuition dictates that customers with different incomes may behave differently with respect to retention rate. \n",
    "* `Exited`: boolean flag (0 or 1) representing whether the customer has exited their account. This is the target variable for the dataset. It should not be dropped, but should not be included as the training input (X), and should instead be separated as the target label (y). \n",
    "\n",
    "You will also see an empty directory `saved_models/`, that is for you to save all the models you'd train in this assignment.\n",
    "\n",
    "`figures/` directory contains few image files used to properly document this assignment. Please do not delete and when possible please move them with this jupyter notebook for proper display of its contents.\n",
    "\n",
    "> In this Jupyter notebook please write your solutions / codes in the cells marked with `#Your solution goes here...`. You may add additional code cells after that cell if you desire. But, please do not remove any cell originally given in the notebook.\n",
    "\n",
    "> After you solve the assignment in the jupyter notebook, be sure to execute and save it so that execution/results/printouts are also saved with it.\n",
    "> Finally, submit the saved jupyter notebook (`2025-Fall-DL-hw2.ipynb`) in Canvas to receive grade. Optionally, you can also submit a python version of the notebook if desired. For this assignment, Canvas only will accept either jupyter notebook in `*.ipynb` or python script (`*.py`) extensions."
   ]
  },
  {
   "cell_type": "markdown",
   "metadata": {},
   "source": [
    "## Task 1 : (10 points)\n",
    "* Define a function named `summarize_dataset` that takes only one argument: `csv_file`, where `csv_file` is the name of the given `csv` file with this assignment, i.e., `datasetX.csv`. \n",
    "  * The function is expected to summarize the given dataset in the following way:\n",
    "```\n",
    "total number of rows = a\n",
    "total number of columns = b\n",
    "number of columns having non-numeric values = c\n",
    "columns with missing values = [ (d1, e1)  (d2, e2), ... ]\n",
    "gender based summary of exited column = [ (f1, g1)  (f2, g2), ... ]\n",
    "age based summary of exited column = [ ('below or equal to 40', h1)  ('above 40', h2) ]\n",
    "credit score summary =  i +/- j \n",
    "```\n",
    "  \n",
    "where,\n",
    "\n",
    "* `a` is total number of rows in the dataset.\n",
    "* `b` is total number of columns in the dataset.\n",
    "* `c` is number of columns having non-numeric values.\n",
    "* $(d_i, e_i)$ (i.e., a pair/tuple entry) represents column name ($d_i$) and number of missing values present in that column ($e_i$). If number of missing values in a column is zero (0), you do not need to list it. Please sort the tuple entries in descending order of $e_i$ values.\n",
    "* $g_i$ represents the percentage of gender $f_i$ who exited. Please sort the tuple entries entries in descending order of $g_i$ values. Also, print the percentages in 2 decimal places after the decimal point, and print use `%` symbol after the percentage value.\n",
    "* $h_1$ and $h_2$ represents the percentage of $\\leq 40$ year olds who exited, and the percentage $>40$ year olds who exited.  Also, print the percentages in 2 decimal places after the decimal point, and print use `%` symbol after the percentage value.\n",
    "* `j` and `k` are average and standard deviation of credit scores among the data samples respectively. Please print the way it is shown above. Also, print the both values in 2 decimal places after the decimal point.\n"
   ]
  },
  {
   "cell_type": "code",
   "execution_count": null,
   "metadata": {},
   "outputs": [],
   "source": [
    "#Your solution goes here...\n",
    "import numpy as np\n",
    "import matplotlib.pyplot as plt\n",
    "import pandas as pd\n",
    "from sklearn.model_selection import train_test_split\n",
    "from sklearn.preprocessing import OneHotEncoder\n",
    "from sklearn.preprocessing import MinMaxScaler\n",
    "from sklearn.metrics import accuracy_score, precision_score, recall_score, f1_score, classification_report, confusion_matrix\n",
    "from torch.utils.data import Dataset, DataLoader\n",
    "import torch\n",
    "import torch.nn as nn\n",
    "import torch.optim as optim\n",
    "import matplotlib.pyplot as plt\n",
    "import os"
   ]
  },
  {
   "cell_type": "code",
   "execution_count": 3,
   "metadata": {},
   "outputs": [
    {
     "name": "stdout",
     "output_type": "stream",
     "text": [
      "total number of rows = 9000\n",
      "total number of columns = 13\n",
      "number of columns having non-numeric values = 3\n",
      "columns with missing values = [('Age', 397), ('CreditScore', 26)]\n",
      "gender based summary of exited column = [('Female', '24.77%'), ('Male', '16.63%')]\n",
      "age based summary of exited column = [('below or equal to 40', '10.94%'), ('above 40', '37.63%')]\n",
      "credit score summary = 650.25 +/- 96.75\n"
     ]
    }
   ],
   "source": [
    "def summarize_dataset (csv_file):\n",
    "    df = pd.read_csv(csv_file)\n",
    "\n",
    "    # number of rows\n",
    "    a = df.shape[0]\n",
    "\n",
    "    # number of columns\n",
    "    b = df.shape[1]\n",
    "\n",
    "    # number of columns (non-numeric)\n",
    "    c = df.select_dtypes(exclude=['number']).shape[1]\n",
    "\n",
    "    # column, missing values\n",
    "    de = list(\n",
    "        df.isna() # number of missing in column\n",
    "        .sum()  # count the missing\n",
    "        .loc[lambda s: s > 0] # filter 0 entries\n",
    "        .sort_values(ascending=False) # sort by descending\n",
    "        .items() # turn into tuples\n",
    "    )\n",
    "\n",
    "    # exited percentage based on gender\n",
    "    fg = list(\n",
    "        df.groupby('Gender')['Exited'] # groups gender and exit status\n",
    "        .mean() # averages the exit amount\n",
    "        .mul(100) # converts to percentage by multipying by 100\n",
    "        .sort_values(ascending=False) # sort\n",
    "        .map(lambda x: f\"{x:.2f}%\")\n",
    "        .items() # tuples\n",
    "    )\n",
    "\n",
    "    # exited percentage based on age\n",
    "    h1 = df.loc[df['Age'] <= 40, 'Exited'].mean() * 100\n",
    "    h2 = df.loc[df['Age'] > 40, 'Exited'].mean() * 100\n",
    "    h = [\n",
    "    ('below or equal to 40', f\"{h1:.2f}%\"),\n",
    "    ('above 40', f\"{h2:.2f}%\")\n",
    "    ]\n",
    "\n",
    "    j = f\"{df['CreditScore'].mean():.2f}\"\n",
    "    k = f\"{df['CreditScore'].std():.2f}\"\n",
    "    \n",
    "    print(f\"total number of rows = {a}\")\n",
    "    print(f\"total number of columns = {b}\")\n",
    "    print(f\"number of columns having non-numeric values = {c}\")\n",
    "    print(f\"columns with missing values = {de}\")\n",
    "    print(f\"gender based summary of exited column = {fg}\")\n",
    "    print(f\"age based summary of exited column = {h}\")\n",
    "    print(f\"credit score summary = {j} +/- {k}\")\n",
    "\n",
    "\n",
    "\n",
    "summarize_dataset('dataset/datasetX.csv')\n"
   ]
  },
  {
   "attachments": {
    "image.png": {
     "image/png": "[encoded data removed]"
    }
   },
   "cell_type": "markdown",
   "metadata": {},
   "source": [
    "![image.png](attachment:image.png)"
   ]
  },
  {
   "cell_type": "markdown",
   "metadata": {},
   "source": [
    "## Task 2\n",
    "* Preprocessing the given dataset for the model training."
   ]
  },
  {
   "cell_type": "markdown",
   "metadata": {},
   "source": [
    "### Task 2.1 (10 points)\n",
    "\n",
    "* First preprocessing that we are going to do on the dataset is dropping two features (i.e., columns) that, I think, are irrelevant and would not make any meaningful relationship with the `Exited` feature. The features are: `CustomerId` and `Surname`.\n",
    "* Make sure to create a variable called `dataset_dropped` that will store the revised dataset.\n",
    "* Please print the name of the columns of the revised dataset."
   ]
  },
  {
   "cell_type": "code",
   "execution_count": 4,
   "metadata": {
    "nbgrader": {
     "grade": false,
     "grade_id": "cell-247a930d79bde8e3",
     "locked": true,
     "schema_version": 3,
     "solution": false,
     "task": false
    },
    "scrolled": true
   },
   "outputs": [
    {
     "name": "stdout",
     "output_type": "stream",
     "text": [
      "['CreditScore', 'Geography', 'Gender', 'Age', 'Tenure', 'Balance', 'NumOfProducts', 'HasCrCard', 'IsActiveMember', 'EstimatedSalary', 'Exited']\n"
     ]
    }
   ],
   "source": [
    "#Your solution goes here...\n",
    "df = pd.read_csv('dataset/datasetX.csv')\n",
    "dataset_dropped = df.drop(['CustomerId', 'Surname'], axis=1)\n",
    "print(dataset_dropped.columns.tolist())"
   ]
  },
  {
   "cell_type": "markdown",
   "metadata": {},
   "source": [
    "### Task 2.2 (10 points)\n",
    "* Second Preprocessing that we are going to do is *Shuffle Rows* of the dataset obtained from `Task 2.1`.\n",
    "* \"It is extremely important to shuffle the training data, so that you do not obtain entire minibatches of highly correlated examples. As long as the data has been shuffled, everything should work OK. Different random orderings will perform slightly differently from each other but this will be a small factor that does not matter much.\" -- [Ian Goodfellow](https://qr.ae/pGBgw8)\n",
    "* Use a random seed value `4321` in case you will call any stochastic method.\n",
    "* Make sure to create a variable called `dataset_shuffled` that will store the revised dataset.\n"
   ]
  },
  {
   "cell_type": "code",
   "execution_count": 5,
   "metadata": {
    "nbgrader": {
     "grade": false,
     "grade_id": "shuff_dataset_final",
     "locked": true,
     "schema_version": 3,
     "solution": false,
     "task": false
    }
   },
   "outputs": [
    {
     "name": "stdout",
     "output_type": "stream",
     "text": [
      "Shuffled dataset:\n",
      "      CreditScore Geography  Gender   Age  Tenure    Balance  NumOfProducts  \\\n",
      "2803        538.0     Spain  Female  30.0       8       0.00              2   \n",
      "8243        734.0    France    Male  37.0       3   80387.81              1   \n",
      "3916        494.0    France  Female  35.0       9  112727.06              2   \n",
      "3591        633.0    France    Male  38.0       2   91902.56              2   \n",
      "4293        565.0   Germany    Male  31.0       2   89558.39              2   \n",
      "\n",
      "      HasCrCard  IsActiveMember  EstimatedSalary  Exited  \n",
      "2803          1               1         41192.95       0  \n",
      "8243          0               1         77272.62       0  \n",
      "3916          1               0        183752.91       0  \n",
      "3591          1               1        107673.35       0  \n",
      "4293          1               1          4441.54       0  \n"
     ]
    }
   ],
   "source": [
    "#Your solution goes here...\n",
    "dataset_shuffled = dataset_dropped.sample(frac=1, random_state=4321)\n",
    "print(f\"Shuffled dataset:\\n{dataset_shuffled.head()}\")"
   ]
  },
  {
   "cell_type": "markdown",
   "metadata": {},
   "source": [
    "### Task 2.3: (10 points)\n",
    "\n",
    "* Third Preprocessing that we will do is X-y Partitioning of the dataset obtained from `Task 2.2`.\n",
    "* In its current state, the dataset contains both independent (input, `X`) and the target (output, `y`) features within the same dataframe. For ease of of the training process, we need to partition the training features from the target feature into two separate dataframes. \n",
    "* Make sure, the following cell contains at least two variables: `X` and `y`:\n",
    "  * `X` contains part of the dataset with only independent features, and \n",
    "  * `y` having only the dependent/target feature."
   ]
  },
  {
   "cell_type": "code",
   "execution_count": 6,
   "metadata": {},
   "outputs": [
    {
     "name": "stdout",
     "output_type": "stream",
     "text": [
      "Feature matrix X shape: (9000, 10)\n",
      "Target vector y shape: (9000,)\n",
      "\n",
      "Feature columns:\n",
      "['CreditScore', 'Geography', 'Gender', 'Age', 'Tenure', 'Balance', 'NumOfProducts', 'HasCrCard', 'IsActiveMember', 'EstimatedSalary']\n",
      "\n",
      "Target distribution (counts):\n",
      "Exited\n",
      "0    7169\n",
      "1    1831\n",
      "Name: count, dtype: int64\n"
     ]
    }
   ],
   "source": [
    "#Your solution goes here...\n",
    "X = dataset_shuffled.drop('Exited', axis=1)\n",
    "y = dataset_shuffled['Exited']\n",
    "\n",
    "print(\"Feature matrix X shape:\", X.shape)\n",
    "print(\"Target vector y shape:\", y.shape)\n",
    "\n",
    "print(\"\\nFeature columns:\")\n",
    "print(list(X.columns))\n",
    "\n",
    "print(\"\\nTarget distribution (counts):\")\n",
    "print(y.value_counts())"
   ]
  },
  {
   "cell_type": "markdown",
   "metadata": {},
   "source": [
    "### Task 2.4 (10 points)\n",
    "* Fourth Preprocessing that we will do is Train-Test Split of X, y obtained from `Task 2.3`.\n",
    "* Now that we have X and y tables with appropriate feature pruning performed, we must split the data into a training partition (`X_train, y_train`) and a testing partition (`X_test, y_test`). \n",
    "* The training partitions (`X_train, y_train`) will be used to train your model, while the test partition (`X_test, y_test`) will be set aside during the training steps, and will only be used to evaluate the trained model. \n",
    "* Training and test splits should be mutually exclusive to the datasets... i.e., a sample can not be both in training and test sets.\n",
    "* Please perform a 80-20 split, meaning 80% of the (X,y) dataset will be in (X_train, y_train) split, while, remaining 20% will be in (X_test,y_test) split. \n",
    "* Please use random seed `4321` prior to calling any stochastic methods.\n",
    "* Make sure the following cell contains at least 4 variables: `X_train`, `y_train`, `X_test`, `y_test`."
   ]
  },
  {
   "cell_type": "code",
   "execution_count": 7,
   "metadata": {
    "nbgrader": {
     "grade": false,
     "grade_id": "train_test_split",
     "locked": false,
     "schema_version": 3,
     "solution": true,
     "task": false
    },
    "scrolled": true
   },
   "outputs": [
    {
     "name": "stdout",
     "output_type": "stream",
     "text": [
      "X_train shape: (7200, 10)\n",
      "y_train shape: (7200,)\n",
      "X_test shape: (1800, 10)\n",
      "y_test shape: (1800,)\n"
     ]
    }
   ],
   "source": [
    "#Your solution goes here...\n",
    "X_train, X_test, y_train, y_test = train_test_split(\n",
    "    X, y, \n",
    "    test_size=0.2, # 20% test, 80% train\n",
    "    random_state=4321\n",
    ")\n",
    "\n",
    "print(\"X_train shape:\", X_train.shape)\n",
    "print(\"y_train shape:\", y_train.shape)\n",
    "print(\"X_test shape:\", X_test.shape)\n",
    "print(\"y_test shape:\", y_test.shape)"
   ]
  },
  {
   "cell_type": "markdown",
   "metadata": {},
   "source": [
    "### Task 2.5 (10 points)\n",
    "\n",
    "* Fifth preprocessing that we will do is the *Conversion of Categorical features to Numerical*\n",
    "* Please adopt the `One Hot Encoding` method instead of `Label Encoding` while converting the categorical features. \n",
    "* Make sure the following cell contains a variable named `X_train_ohe` that would contain one hot encoded `X_train` data; on the two categorical columns: 'Geography','Gender'. Please save the encoder for later use; e.g., encode `X_test` dataset, or any future test sample given to you. Under any circumstance, you must not encode `X_test` independently like you would do for `X_train`.\n",
    "* Now, encode the `X_test` data using the one hot encoder you saved while you encoded the `X_train`, and name the variable `X_test_ohe`.\n",
    "\n",
    "\n",
    "* **Both encoding techniques are outlined below**:\n",
    "> A little background first: Categorical features are features that contain values that are not numeric. It would be absurd to work with non-numeric features if you ask neurons in your ANN to compute the weighted sum of inputs, and then pass through activation function, right? These maths are undefined. An obvious solution you may be intrigued to do is dropping the features! Aha! Wrong!! Every piece of data is precious... may present with valuable insights of the data samples to find the patterns to map inputs with output/targets. So, we should include them. But, how?\n",
    "\n",
    "The answer is via \"Encoding\". \n",
    "\n",
    "Several types of encodings are used in practice. Here below are just 2 popular ones:\n",
    "1. **Label Encoding**, where labels are encoded as subsequent numbers. Say, for a categorical feature named \"Category\" with three categorical values: {“Cat”, “Dog” or “Zebra”} can be encoded to \"0\", \"1\", \"2\" respectively as in figure below. The issue with this type of encoding may unintentionally impose a type of ordering of the categories, that may add bias to the training.\n",
    "\n",
    "\n",
    "![label-encoding](figures/le.png)\n",
    "\n",
    "2. **One Hot Encoding**, ignores the ordering of the categories all together. With one-hot, we convert each categorical value into a new categorical column and assign a binary value of 1 or 0 to those columns. Each integer value is represented as a binary vector. All the values are zero, and the index is marked with a 1. Also, don't forget to remove the original categorical features. Here below just an example, how to convert the categorical feature called \"Category\" having the {“Cat”, “Dog” or “Zebra”} values into three new binary features: \"Cat\", \"Dog\", \"Zebra\".\n",
    "\n",
    "![label-encoding](figures/ohe.png)\n",
    "\n",
    "**A note on the Dummy Variable Trap**\n",
    "The Dummy Variable Trap occurs when two or more dummy variables created by one-hot encoding are highly correlated (i.e., becomes multi-collinear). This means that one variable can be predicted from the others, making it difficult to interpret predicted coefficient variables in regression models. In other words, the individual effect of the dummy variables on the prediction model can not be interpreted well because of multicollinearity.\n",
    "\n",
    "Using the one-hot encoding method, a new dummy variable is created for each categorical variable to represent the presence (1) or absence (0) of the categorical variable. For example, if tree species is a categorical variable made up of the values pine, or oak, then tree species can be represented as a dummy variable by converting each variable to a one-hot vector. This means that a separate column is obtained for each category, where the first column represents if the tree is pine and the second column represents if the tree is oak. Each column will contain a 0 or 1 if the tree in question is of the column's species. These two columns are multi-collinear since if a tree is pine, then we know it's not oak and vice versa. The machine learning models trained on dataset having this multi-collinearity suffers. A remedy is to drop first (or any one) of the dummy (i.e., one-hot) features created."
   ]
  },
  {
   "cell_type": "code",
   "execution_count": 8,
   "metadata": {
    "nbgrader": {
     "grade": false,
     "grade_id": "one-hot-encoding-function",
     "locked": true,
     "schema_version": 3,
     "solution": false,
     "task": false
    }
   },
   "outputs": [
    {
     "name": "stdout",
     "output_type": "stream",
     "text": [
      "X_train_ohe shape: (7200, 11)\n",
      "X_test_ohe shape: (1800, 11)\n",
      "Encoded columns:\n",
      "       CreditScore   Age  Tenure    Balance  NumOfProducts  HasCrCard  \\\n",
      "5810        445.0  31.0       7  145056.59              1          1   \n",
      "8779        636.0  35.0       9   95478.17              1          0   \n",
      "1849        627.0  27.0       2       0.00              2          1   \n",
      "4944        530.0   NaN       8       0.00              2          0   \n",
      "6724        689.0  40.0       8  160272.27              1          1   \n",
      "\n",
      "      IsActiveMember  EstimatedSalary  Geography_Germany  Geography_Spain  \\\n",
      "5810               1        175893.53                0.0              0.0   \n",
      "8779               0        169286.74                0.0              0.0   \n",
      "1849               0        125451.01                0.0              0.0   \n",
      "4944               1        141872.52                0.0              0.0   \n",
      "6724               0         49656.24                0.0              0.0   \n",
      "\n",
      "      Gender_Male  \n",
      "5810          1.0  \n",
      "8779          1.0  \n",
      "1849          0.0  \n",
      "4944          0.0  \n",
      "6724          1.0  \n"
     ]
    }
   ],
   "source": [
    "#Your solution goes here...\n",
    "ohe = OneHotEncoder(drop=\"first\", sparse_output=False, handle_unknown=\"ignore\")\n",
    "\n",
    "categorical_cols = [\"Geography\", \"Gender\"]\n",
    "ohe.fit(X_train[categorical_cols])\n",
    "\n",
    "X_train_ohe = ohe.fit_transform(X_train[categorical_cols])\n",
    "X_test_ohe = ohe.transform(X_test[categorical_cols])\n",
    "\n",
    "encoded_train = pd.DataFrame(X_train_ohe, columns=ohe.get_feature_names_out(categorical_cols), index=X_train.index)\n",
    "encoded_test = pd.DataFrame(X_test_ohe, columns=ohe.get_feature_names_out(categorical_cols), index=X_test.index)\n",
    "\n",
    "X_train_ohe = pd.concat([X_train.drop(categorical_cols, axis=1), encoded_train], axis=1)\n",
    "X_test_ohe = pd.concat([X_test.drop(categorical_cols, axis=1), encoded_test], axis=1)\n",
    "\n",
    "print(\"X_train_ohe shape:\", X_train_ohe.shape)\n",
    "print(\"X_test_ohe shape:\", X_test_ohe.shape)\n",
    "print(\"Encoded columns:\\n\", X_train_ohe.head())"
   ]
  },
  {
   "cell_type": "markdown",
   "metadata": {},
   "source": [
    "### Task 2.6: (10 points)\n",
    "\n",
    "* Sixth Preprocessing that we are going to do is *Normalization of X_train_ohe, and X_test_ohe*\n",
    "\n",
    "* Now that we have all numerical training and test datasets: `X_train_ohe` and `X_test_ohe` respectively, we can normalize each features in both of the datasets. **Normalization** is just one of the way to scale each feature. In class you'll learn a ton of other ways to scale. For this task, let's resort to **Normalization**.\n",
    "\n",
    "> \"The rule of thumb for scaling datasets, is we scale training dataset first, then using the statistics that we learn during the scaling process, we scale the test dataset. We do not learn any new statistics while we scale the test dataset.\"\n",
    "\n",
    "* Also, scaling is commonly performed column-wise, and never sample/row wise.\n",
    "\n",
    "* Make sure the following cell contains the two scaled variables: `X_train_scaled` and `X_test_scaled` based on the requirements mentioned above."
   ]
  },
  {
   "cell_type": "code",
   "execution_count": 9,
   "metadata": {
    "nbgrader": {
     "grade": false,
     "grade_id": "normalizer-learning-training",
     "locked": true,
     "schema_version": 3,
     "solution": false,
     "task": false
    }
   },
   "outputs": [
    {
     "name": "stdout",
     "output_type": "stream",
     "text": [
      "X_train_scaled shape: (7200, 11)\n",
      "X_test_scaled shape: (1800, 11)\n",
      "X_train_scaled head:\n",
      "       CreditScore       Age  Tenure   Balance  NumOfProducts  HasCrCard  \\\n",
      "5810        0.190  0.175676     0.7  0.578149       0.000000        1.0   \n",
      "8779        0.572  0.229730     0.9  0.380546       0.000000        0.0   \n",
      "1849        0.554  0.121622     0.2  0.000000       0.333333        1.0   \n",
      "4944        0.360       NaN     0.8  0.000000       0.333333        0.0   \n",
      "6724        0.678  0.297297     0.8  0.638794       0.000000        1.0   \n",
      "\n",
      "      IsActiveMember  EstimatedSalary  Geography_Germany  Geography_Spain  \\\n",
      "5810             1.0         0.879446                0.0              0.0   \n",
      "8779             0.0         0.846396                0.0              0.0   \n",
      "1849             0.0         0.627111                0.0              0.0   \n",
      "4944             1.0         0.709258                0.0              0.0   \n",
      "6724             0.0         0.247952                0.0              0.0   \n",
      "\n",
      "      Gender_Male  \n",
      "5810          1.0  \n",
      "8779          1.0  \n",
      "1849          0.0  \n",
      "4944          0.0  \n",
      "6724          1.0  \n"
     ]
    }
   ],
   "source": [
    "#Your solution goes here...\n",
    "scaler = MinMaxScaler()\n",
    "\n",
    "X_train_scaled = scaler.fit_transform(X_train_ohe)\n",
    "X_test_scaled = scaler.transform(X_test_ohe)\n",
    "\n",
    "X_train_scaled = pd.DataFrame(X_train_scaled, columns=X_train_ohe.columns, index=X_train_ohe.index)\n",
    "X_test_scaled = pd.DataFrame(X_test_scaled, columns=X_test_ohe.columns, index=X_test_ohe.index)\n",
    "\n",
    "print(\"X_train_scaled shape:\", X_train_scaled.shape)\n",
    "print(\"X_test_scaled shape:\", X_test_scaled.shape)\n",
    "print(\"X_train_scaled head:\\n\", X_train_scaled.head())"
   ]
  },
  {
   "cell_type": "markdown",
   "metadata": {},
   "source": [
    "## Task 3: (10 points)\n",
    "* *Designing your first Artificial Neural Network (ANN) based classifier* using **PyTorch**.:\n",
    "\n",
    "\n",
    "### Step 0: Dataset and DataLoaders\n",
    "* Make sure you implement the `Dataset` and `DataLoader` classes ready to read from the external csv file located at `dataset/datasetX.csv` file."
   ]
  },
  {
   "cell_type": "code",
   "execution_count": 10,
   "metadata": {},
   "outputs": [
    {
     "name": "stdout",
     "output_type": "stream",
     "text": [
      "Train batch X: torch.Size([11])\n",
      "Train batch y: torch.Size([])\n"
     ]
    }
   ],
   "source": [
    "X_train_scaled_clean = X_train_scaled.fillna(0)\n",
    "X_test_scaled_clean = X_test_scaled.fillna(0)\n",
    "\n",
    "class CustomerChurnDataset(Dataset):\n",
    "    def __init__(self, X, y):\n",
    "        self.X = torch.FloatTensor(X.values if hasattr(X, \"values\") else X)\n",
    "        self.y = torch.FloatTensor(y.values if hasattr(y, \"values\") else y)\n",
    "\n",
    "    def __len__(self):\n",
    "        return len(self.X)\n",
    "\n",
    "    def __getitem__(self, idx):\n",
    "        return self.X[idx], self.y[idx]\n",
    "\n",
    "train_dataset = CustomerChurnDataset(X_train_scaled_clean, y_train)\n",
    "test_dataset  = CustomerChurnDataset(X_test_scaled_clean,  y_test)\n",
    "\n",
    "batch_size = 32\n",
    "\n",
    "train_loader = DataLoader(train_dataset, batch_size=batch_size, shuffle=True)\n",
    "test_loader  = DataLoader(test_dataset,  batch_size=batch_size, shuffle=False)\n",
    "\n",
    "sample_X, sample_y = train_dataset[0]\n",
    "print(f\"Train batch X: {sample_X.shape}\")\n",
    "print(f\"Train batch y: {sample_y.shape}\")\n"
   ]
  },
  {
   "cell_type": "markdown",
   "metadata": {},
   "source": [
    "### Step 1: The ANN architecture\n",
    "* Let's design the first artificial network architecture for the classifier we would like to build. Here below is one. How did I get this architecture? Maybe in my dream! Haha. Someday you will get one too. Until that, let's follow the architecture below:\n",
    "  ![Task 3 ANN architecture](figures/nn-1.png)\n",
    "  * **Input layer** will have 11 units as the dimension of training set: `X_train_scaled` (i.e, number of columns = 11).\n",
    "  * **First hidden layer** will have 5 neurons, each with \"Rectified Linear Unit (`ReLU``)\" as activation function.\n",
    "  * **Second hidden layer** will have 4 neurons, each with \"`ReLU`\" as activation function.\n",
    "  * **Output layer** will have just 1 neuron, with `sigmoid`` activation function. \n",
    "    * The reason behind a single neuron with `sigmoid` activation at the output layer is that, output of this neuron will tell the probability score of the target outcome: \"Exited\" True or False. If the output neuron produces value above 0.5, we will say the neural network predicted \"True\", otherwise, False. This is the beauty of using sigmoid function at the output layer as we can interpret the output value of the neuron as probability score.\n",
    "* The architecture will come to life when you initiate the training process with training data.\n",
    "  * The training process needs a **gradient descend based optimizer**, and a convex looking **loss function**.  \n",
    "  * For this task, let's choose the `adam` optimizer, and the `binary_crossentropy` as the loss function.\n",
    "  * You choose a batch size that would make the execution comfortable at your workstation.\n"
   ]
  },
  {
   "cell_type": "code",
   "execution_count": 11,
   "metadata": {},
   "outputs": [
    {
     "name": "stdout",
     "output_type": "stream",
     "text": [
      "ANN 11 5 4 1 Model Architecture:\n",
      "ANN_11_5_4_1(\n",
      "  (fc1): Linear(in_features=11, out_features=5, bias=True)\n",
      "  (relu1): ReLU()\n",
      "  (fc2): Linear(in_features=5, out_features=4, bias=True)\n",
      "  (relu2): ReLU()\n",
      "  (fc3): Linear(in_features=4, out_features=1, bias=True)\n",
      "  (sigmoid): Sigmoid()\n",
      ")\n"
     ]
    }
   ],
   "source": [
    "#Your solution goes here...\n",
    "class ANN_11_5_4_1(nn.Module):\n",
    "    def __init__(self, input_dim=11):\n",
    "        super(ANN_11_5_4_1, self).__init__()\n",
    "        \n",
    "        self.fc1 = nn.Linear(input_dim, 5)\n",
    "        self.relu1 = nn.ReLU()\n",
    "\n",
    "        self.fc2 = nn.Linear(5, 4)\n",
    "        self.relu2 = nn.ReLU()\n",
    "\n",
    "        self.fc3 = nn.Linear(4, 1)\n",
    "        self.sigmoid = nn.Sigmoid()\n",
    "\n",
    "    def forward(self, x):\n",
    "        x = self.fc1(x)\n",
    "        x = self.relu1(x)\n",
    "        x = self.fc2(x)\n",
    "        x = self.relu2(x)\n",
    "        x = self.fc3(x)\n",
    "        x = self.sigmoid(x)  \n",
    "        return x\n",
    "\n",
    "model_11_5_4_1 = ANN_11_5_4_1(input_dim=11)\n",
    "\n",
    "criterion = nn.BCELoss()\n",
    "\n",
    "optimizer = torch.optim.Adam(model_11_5_4_1.parameters(), lr=0.001)\n",
    "\n",
    "print(f\"ANN 11 5 4 1 Model Architecture:\\n{model_11_5_4_1}\")\n"
   ]
  },
  {
   "cell_type": "markdown",
   "metadata": {},
   "source": [
    "### Step 2: The Training process\n",
    "* Let's start the training process with the training dataset, `X_train_scaled`.\n",
    "  * Gradient descend based optimization updates run in iterations. When number of iterations equal the total number of training samples, we call that `1 epoch` has passed. Let's continue the training for `25 epochs`. But, you are welcome to run longer than this. There are, however, simpler way to determine if you should early stop your training. \n",
    "    * (Optional) Can you extract information about optimization in each epoch? If so, draw a epoch-loss plot, where X-axis needs to show epoch numbers, and Y-axis will show the `binary_crossentropy` loss value in that particular epoch iteration.\n",
    "* Don't forget to save the model into a file in the `saved_models/` directory so that you can re-use it later for further prediction. Let's give it a name: `model-ann-11-5-4-1-pt` with an extension of your choosing."
   ]
  },
  {
   "cell_type": "code",
   "execution_count": 12,
   "metadata": {},
   "outputs": [
    {
     "name": "stdout",
     "output_type": "stream",
     "text": [
      "Checking model and data...\n",
      "Actual input features: 11\n",
      "Batch shape: torch.Size([32, 11])\n",
      "Label shape: torch.Size([32])\n",
      "Output shape: torch.Size([32, 1])\n",
      "Output range: min=0.435277, max=0.466396\n",
      "First 5 outputs: tensor([0.4581, 0.4536, 0.4637, 0.4457, 0.4446])\n",
      "Any NaN in outputs? False\n",
      "Any inf in outputs? False\n"
     ]
    }
   ],
   "source": [
    "# verify model and data\n",
    "print(\"Checking model and data...\")\n",
    "\n",
    "# check input dimension\n",
    "print(f\"Actual input features: {X_train_scaled.shape[1]}\")\n",
    "\n",
    "# single batch\n",
    "test_xb, test_yb = next(iter(train_loader))\n",
    "print(f\"Batch shape: {test_xb.shape}\")\n",
    "print(f\"Label shape: {test_yb.shape}\")\n",
    "\n",
    "# test forward pass\n",
    "model_11_5_4_1.eval()\n",
    "with torch.no_grad():\n",
    "    test_outputs = model_11_5_4_1(test_xb)\n",
    "    print(f\"Output shape: {test_outputs.shape}\")\n",
    "    print(f\"Output range: min={test_outputs.min().item():.6f}, max={test_outputs.max().item():.6f}\")\n",
    "    print(f\"First 5 outputs: {test_outputs.squeeze()[:5]}\")\n",
    "    \n",
    "# check for NaNs or infs in inputs and outputs, NaNs were the root of my problems\n",
    "print(f\"Any NaN in outputs? {torch.isnan(test_outputs).any()}\")\n",
    "print(f\"Any inf in outputs? {torch.isinf(test_outputs).any()}\")"
   ]
  },
  {
   "cell_type": "code",
   "execution_count": 13,
   "metadata": {},
   "outputs": [
    {
     "name": "stdout",
     "output_type": "stream",
     "text": [
      "Starting training...\n",
      "==================================================\n",
      "Epoch [1/25]  Loss: 0.5383  Acc: 0.7963\n",
      "Epoch [5/25]  Loss: 0.4632  Acc: 0.7963\n",
      "Epoch [10/25]  Loss: 0.4352  Acc: 0.7963\n",
      "Epoch [15/25]  Loss: 0.4216  Acc: 0.8161\n",
      "Epoch [20/25]  Loss: 0.4164  Acc: 0.8261\n",
      "Epoch [25/25]  Loss: 0.4133  Acc: 0.8290\n",
      "==================================================\n",
      "Training completed!\n"
     ]
    },
    {
     "data": {
      "image/png": "[encoded data removed]",
      "text/plain": [
       "<Figure size 1200x400 with 2 Axes>"
      ]
     },
     "metadata": {},
     "output_type": "display_data"
    },
    {
     "name": "stdout",
     "output_type": "stream",
     "text": [
      "Model saved as 'saved_models/model-ann-11-5-4-1-pt.pth'\n"
     ]
    }
   ],
   "source": [
    "epochs = 25\n",
    "train_losses = []\n",
    "train_accuracies = []\n",
    "\n",
    "print(\"Starting training...\\n\" + \"=\"*50)\n",
    "\n",
    "for epoch in range(epochs):\n",
    "    model_11_5_4_1.train()\n",
    "    epoch_loss = 0.0\n",
    "    correct = 0\n",
    "    total = 0\n",
    "\n",
    "    for batch_idx, (xb, yb) in enumerate(train_loader):\n",
    "        outputs = model_11_5_4_1(xb)\n",
    "        loss = criterion(outputs.squeeze(), yb)\n",
    "\n",
    "        optimizer.zero_grad()\n",
    "        loss.backward()\n",
    "        optimizer.step()\n",
    "\n",
    "        epoch_loss += loss.item()\n",
    "\n",
    "        # metrics\n",
    "        prediction = (outputs.squeeze() > 0.5).float()\n",
    "        correct += (prediction == yb).sum().item()\n",
    "        total += yb.size(0)\n",
    "\n",
    "    avg_loss = epoch_loss / len(train_loader)\n",
    "    acc = correct / total\n",
    "\n",
    "    train_losses.append(avg_loss)\n",
    "    train_accuracies.append(acc)\n",
    "\n",
    "    if (epoch + 1) % 5 == 0 or epoch == 0:\n",
    "        print(f\"Epoch [{epoch+1}/{epochs}]  Loss: {avg_loss:.4f}  Acc: {acc:.4f}\")\n",
    "\n",
    "print(\"=\"*50)\n",
    "print(\"Training completed!\")\n",
    "\n",
    "fig, (ax1, ax2) = plt.subplots(1, 2, figsize=(12, 4))\n",
    "\n",
    "ax1.plot(range(1, epochs+1), train_losses, 'b-', label='Training Loss')\n",
    "ax1.set_xlabel('Epoch'); ax1.set_ylabel('Loss'); ax1.set_title('Training Loss over Epochs')\n",
    "ax1.grid(True); ax1.legend()\n",
    "\n",
    "ax2.plot(range(1, epochs+1), train_accuracies, 'r-', label='Training Accuracy')\n",
    "ax2.set_xlabel('Epoch'); ax2.set_ylabel('Accuracy'); ax2.set_title('Training Accuracy over Epochs')\n",
    "ax2.grid(True); ax2.legend()\n",
    "\n",
    "plt.tight_layout()\n",
    "plt.show()\n",
    "\n",
    "os.makedirs(\"saved_models\", exist_ok=True)\n",
    "torch.save(model_11_5_4_1.state_dict(), \"saved_models/model-ann-11-5-4-1-pt.pth\")\n",
    "print(\"Model saved as 'saved_models/model-ann-11-5-4-1-pt.pth'\")"
   ]
  },
  {
   "cell_type": "markdown",
   "metadata": {},
   "source": [
    "### Step 3: The Evaluation\n",
    "\n",
    "#### (part 3.1) Evaluating your model with the entire test dataset:\n",
    "\n",
    "* Load your trained model `model-ann-11-5-4-1-pt` from the file, and have it predict the entire test set you have at head: (`X_test_scaled`). Luckily, for each of the test sample in the set, you also have ground true `Exited` value in the `y_test`. \n",
    "* Please report/print your model's predictive performance on the test set in terms of `accuracy`, `precision`, `recall`, and `F1 scores`."
   ]
  },
  {
   "cell_type": "code",
   "execution_count": 14,
   "metadata": {},
   "outputs": [
    {
     "name": "stdout",
     "output_type": "stream",
     "text": [
      "Accuracy : 0.8278\n",
      "Precision: 0.7547\n",
      "Recall   : 0.2198\n",
      "F1 Score : 0.3404\n"
     ]
    }
   ],
   "source": [
    "# Your solution goes here ...\n",
    "X_np = np.asarray(getattr(X_test_scaled_clean, \"values\", X_test_scaled_clean), dtype=np.float32)\n",
    "y_np = np.asarray(getattr(y_test, \"values\", y_test), dtype=np.int64).reshape(-1)\n",
    "\n",
    "X_test_tensor = torch.from_numpy(X_np)\n",
    "\n",
    "model = ANN_11_5_4_1(input_dim=X_np.shape[1])\n",
    "model.load_state_dict(torch.load(\"saved_models/model-ann-11-5-4-1-pt.pth\", map_location=\"cpu\"))\n",
    "model.eval()\n",
    "\n",
    "with torch.no_grad():\n",
    "    probs = model(X_test_tensor).squeeze(1)     # sigmoid already applied\n",
    "    preds = (probs >= 0.5).to(torch.int64).cpu().numpy()\n",
    "\n",
    "acc  = accuracy_score(y_np, preds)\n",
    "prec = precision_score(y_np, preds, zero_division=0)\n",
    "rec  = recall_score(y_np, preds, zero_division=0)\n",
    "f1   = f1_score(y_np, preds, zero_division=0)\n",
    "\n",
    "print(f\"Accuracy : {acc:.4f}\")\n",
    "print(f\"Precision: {prec:.4f}\")\n",
    "print(f\"Recall   : {rec:.4f}\")\n",
    "print(f\"F1 Score : {f1:.4f}\")\n"
   ]
  },
  {
   "cell_type": "markdown",
   "metadata": {},
   "source": [
    "#### (part 3.2) Evaluating your model with 1 test sample with known Exited value\n",
    "\n",
    "* Here is a single test sample for which we know the ground true `Exited` value:\n",
    "\n",
    "| CustomerId | Surname | CreditScore | Geography | Gender | Age | Tenure | Balance | NumOfProducts | HasCrCard | IsActiveMember |EstimatedSalary | Exited |\n",
    "| :---        |    :----:   |          ---: | :---        |    :----:   |          ---: | :---        |    :----:   |          ---: | :---        |    :----:   |          ---: |          ---: |\n",
    "| 55443322 | Reynolds |709|Germany|Male|30|9|115479.48|2|1|1|134732.99|0|\n",
    "\n",
    "* Load your trained model `model-ann-11-5-4-1-pt` from the file, and have it predict the test sample above. Please don't forget to preprocess this test samples so that it is compliant with the input and model requirements.\n",
    "* Please report whether it predicts a 0 or 1 for the `Exited` target, and also comment whether your model makes a mistake or predicts correctly.\n",
    "\n",
    "\n",
    "\n"
   ]
  },
  {
   "cell_type": "code",
   "execution_count": null,
   "metadata": {},
   "outputs": [
    {
     "name": "stdout",
     "output_type": "stream",
     "text": [
      "Single Test Sample Evaluation\n",
      "==================================================\n",
      "\n",
      "Preprocessed sample shape: (1, 11)\n",
      "   CreditScore       Age  Tenure   Balance  NumOfProducts  HasCrCard  \\\n",
      "0        0.718  0.162162     0.9  0.460264       0.333333        1.0   \n",
      "\n",
      "   IsActiveMember  EstimatedSalary  Geography_Germany  Geography_Spain  \\\n",
      "0             1.0         0.673543                1.0              0.0   \n",
      "\n",
      "   Gender_Male  \n",
      "0          1.0  \n",
      "\n",
      "==================================================\n",
      "PREDICTION RESULTS\n",
      "==================================================\n",
      "Prediction probability: 6.38%\n",
      "Prediction class: 0\n",
      "Ground truth: 0\n",
      "Prediction correct: True\n",
      "Correct!\n",
      "\n",
      "Interpretation: The model predicts this customer will NOT EXIT.\n"
     ]
    }
   ],
   "source": [
    "print(\"Single Test Sample Evaluation\")\n",
    "print(\"=\" * 50)\n",
    "\n",
    "test_sample = {\n",
    "    'CreditScore': 709,\n",
    "    'Geography': 'Germany',\n",
    "    'Gender': 'Male',\n",
    "    'Age': 30,\n",
    "    'Tenure': 9,\n",
    "    'Balance': 115479.48,\n",
    "    'NumOfProducts': 2,\n",
    "    'HasCrCard': 1,\n",
    "    'IsActiveMember': 1,\n",
    "    'EstimatedSalary': 134732.99,\n",
    "    'Exited': 0  # GT\n",
    "}\n",
    "\n",
    "# 1) Build DataFrame (drop target for prediction)\n",
    "sample_df = pd.DataFrame([test_sample]).drop(['Exited'], axis=1)\n",
    "\n",
    "# 2) OHE categorical using your FITTED encoder\n",
    "cat_cols = ['Geography', 'Gender']\n",
    "sample_categorical = sample_df[cat_cols]\n",
    "sample_categorical_encoded = ohe.transform(sample_categorical)\n",
    "encoded_feature_names = ohe.get_feature_names_out(cat_cols)  # define it here\n",
    "sample_categorical_df = pd.DataFrame(sample_categorical_encoded, columns=encoded_feature_names)\n",
    "\n",
    "# 3) Combine numeric + encoded categorical\n",
    "sample_numerical = sample_df.drop(columns=cat_cols)\n",
    "sample_processed = pd.concat(\n",
    "    [sample_numerical.reset_index(drop=True), sample_categorical_df.reset_index(drop=True)],\n",
    "    axis=1\n",
    ")\n",
    "\n",
    "sample_scaled = scaler.transform(sample_processed)\n",
    "sample_scaled = pd.DataFrame(sample_scaled, columns=sample_processed.columns)\n",
    "sample_scaled = sample_scaled.reindex(columns=X_train_scaled.columns, fill_value=0)\n",
    "\n",
    "# 6) Mirror test cleaning\n",
    "sample_scaled = sample_scaled.fillna(0)\n",
    "\n",
    "print(\"\\nPreprocessed sample shape:\", sample_scaled.shape)\n",
    "print(sample_scaled)\n",
    "\n",
    "# 7) Convert to tensor and predict\n",
    "sample_tensor = torch.tensor(sample_scaled.values, dtype=torch.float32)\n",
    "\n",
    "# 8) Load model with correct input_dim\n",
    "model.eval()\n",
    "\n",
    "with torch.no_grad():\n",
    "    prediction_prob = model(sample_tensor).squeeze(1).item()\n",
    "    prediction_class = int(prediction_prob >= 0.5)\n",
    "\n",
    "print(\"\\n\" + \"=\" * 50)\n",
    "print(\"PREDICTION RESULTS\")\n",
    "print(\"=\" * 50)\n",
    "print(f\"Prediction probability: {prediction_prob*100:.2f}%\")\n",
    "print(f\"Prediction class: {prediction_class}\")\n",
    "print(f\"Ground truth: {test_sample['Exited']}\")\n",
    "is_correct = (prediction_class == test_sample['Exited'])\n",
    "print(f\"Prediction correct: {is_correct}\")\n",
    "print(\"Correct!\" if is_correct else \"Incorrect.\")\n",
    "print(f\"\\nInterpretation: The model predicts this customer will {'EXIT' if prediction_class == 1 else 'NOT EXIT'}.\")\n"
   ]
  },
  {
   "cell_type": "markdown",
   "metadata": {},
   "source": [
    "#### (part 3.3) Evaluating your model with 1 test sample without known Exited value\n",
    "\n",
    "* Here is a single test sample for which we **do not know** the ground true `Exited` value:\n",
    "\n",
    "| CustomerId | Surname | CreditScore | Geography | Gender | Age | Tenure | Balance | NumOfProducts | HasCrCard | IsActiveMember |EstimatedSalary | \n",
    "| :---        |    :----:   |          ---: | :---        |    :----:   |          ---: | :---        |    :----:   |          ---: | :---        |    :----:   |          ---: |\n",
    "| 55443323 | Nguyen |603|France|Female|76|20|123456.78|5|1|1|55000.00|\n",
    "\n",
    "\n",
    "* Load your trained model `model-ann-11-5-4-1-pt` from the file, and have it predict the test sample above. Please don't forget to preprocess this test samples so that it is compliant with the input and model requirements.\n",
    "* Please report whether it predicts a 0 or 1 for the `Exited` target. Can you comment on this data sample whether your model captured the pattern in the population?"
   ]
  },
  {
   "cell_type": "code",
   "execution_count": 30,
   "metadata": {},
   "outputs": [],
   "source": [
    "#Your solution goes here ...\n"
   ]
  },
  {
   "cell_type": "markdown",
   "metadata": {},
   "source": [
    "## Task 4: (10 points)\n",
    "\n",
    "* Repeat all the steps in Task 3 with the following new architecture of the neural network:\n",
    "\n",
    "![Task 4 ANN architecture](figures/nn-2.png)\n",
    "\n",
    "* Input layer will still have 11 units as the dimension of training set (i.e, number of columns = 11).\n",
    "* Hidden-layer-1: 8 neurons, with relu activation\n",
    "* Hidden-layer-2: 8 neurons, with relu activation,\n",
    "* Hidden-layer-3: 8 neurons, with relu activation,\n",
    "* Output-layer: 1 neuron with sigmoid.\n",
    "\n",
    "* You may re-use the Dataset/Dataloader classes you defined in Task 3."
   ]
  },
  {
   "cell_type": "code",
   "execution_count": 31,
   "metadata": {},
   "outputs": [],
   "source": [
    "#Your solution goes here...\n"
   ]
  },
  {
   "cell_type": "markdown",
   "metadata": {},
   "source": [
    "## Task 5: (10 points)\n",
    "\n",
    "* Again, repeat Task 3 with the following new architecture of the neural network:\n",
    "\n",
    "![Task 5 ANN architecture](figures/nn-3.png)\n",
    "\n",
    "* Input layer will still have 11 units as the dimension of training set (i.e, number of columns = 11).\n",
    "* Hidden-layer-1: 8 neurons, with relu activation\n",
    "* Hidden-layer-2: 4 neurons, with relu activation,\n",
    "* Hidden-layer-3: 2 neurons, with relu activation,\n",
    "* Output-layer: 1 neuron with sigmoid.\n",
    "\n"
   ]
  },
  {
   "cell_type": "code",
   "execution_count": 32,
   "metadata": {},
   "outputs": [],
   "source": [
    "#Your solution goes here ...\n"
   ]
  },
  {
   "cell_type": "markdown",
   "metadata": {},
   "source": [
    "# That's all folks! Thanks for your effort. \n",
    "\n",
    "Now, do the following to earn credit --\n",
    "\n",
    "0. Setting up:\n",
    "    - Make sure you actually experiment with this assignment. I would encourage (again) you to go through the possible compute resource you can use (e.g., Kaggle, Google Colab, etc.).\n",
    "    - It's always better to work in python virtual environment. Here are some resources for you to create and work in virtual environments [[win+mac+ubuntu](https://ashiskb.info/posts/2022/09/biswas/blog-1-python-venv/)][[windows+gpu](https://ashiskb.info/posts/2023/08/biswas/blog-win10-tensorflow/)][[ubuntu+gpu](https://ashiskb.info/posts/2023/08/biswas/blog-ubuntu-tensorflow/)]\n",
    "1. Please make sure to execute each cell in this jupyter notebook, and hit the 'Save' button, or go \"File > Save and Checkpoint\" menu option to save the notebook.\n",
    "2. Submit this notebook \"2025-Fall-DL-hw2.ipynb\" into Canvas \"hw-2\" entry. \n",
    "3. Done!\n"
   ]
  },
  {
   "cell_type": "markdown",
   "metadata": {},
   "source": []
  },
  {
   "cell_type": "code",
   "execution_count": 33,
   "metadata": {},
   "outputs": [],
   "source": [
    "# Your solution goes here ..."
   ]
  },
  {
   "cell_type": "markdown",
   "metadata": {},
   "source": [
    "#### (part 3.3) Evaluating your model with 1 test sample without known Exited value\n",
    "\n",
    "* Here is a single test sample for which we **do not know** the ground true `Exited` value:\n",
    "\n",
    "| CustomerId | Surname | CreditScore | Geography | Gender | Age | Tenure | Balance | NumOfProducts | HasCrCard | IsActiveMember |EstimatedSalary | \n",
    "| :---        |    :----:   |          ---: | :---        |    :----:   |          ---: | :---        |    :----:   |          ---: | :---        |    :----:   |          ---: |\n",
    "| 55443323 | Nguyen |603|France|Female|76|20|123456.78|5|1|1|55000.00|\n",
    "\n",
    "\n",
    "* Load your trained model `model-ann-11-5-4-1-pt` from the file, and have it predict the test sample above. Please don't forget to preprocess this test samples so that it is compliant with the input and model requirements.\n",
    "* Please report whether it predicts a 0 or 1 for the `Exited` target. Can you comment on this data sample whether your model captured the pattern in the population?"
   ]
  },
  {
   "cell_type": "code",
   "execution_count": 34,
   "metadata": {
    "nbgrader": {
     "grade": false,
     "grade_id": "ANN-1_layers",
     "locked": true,
     "schema_version": 3,
     "solution": false,
     "task": false
    }
   },
   "outputs": [],
   "source": [
    "#Your solution goes here ...\n"
   ]
  },
  {
   "cell_type": "markdown",
   "metadata": {},
   "source": [
    "## Task 4: (10 points)\n",
    "\n",
    "* Repeat all the steps in Task 3 with the following new architecture of the neural network:\n",
    "\n",
    "![Task 4 ANN architecture](figures/nn-2.png)\n",
    "\n",
    "* Input layer will still have 11 units as the dimension of training set (i.e, number of columns = 11).\n",
    "* Hidden-layer-1: 8 neurons, with relu activation\n",
    "* Hidden-layer-2: 8 neurons, with relu activation,\n",
    "* Hidden-layer-3: 8 neurons, with relu activation,\n",
    "* Output-layer: 1 neuron with sigmoid.\n",
    "\n",
    "* You may re-use the Dataset/Dataloader classes you defined in Task 3."
   ]
  },
  {
   "cell_type": "code",
   "execution_count": 35,
   "metadata": {},
   "outputs": [],
   "source": [
    "#Your solution goes here...\n"
   ]
  },
  {
   "cell_type": "markdown",
   "metadata": {},
   "source": [
    "## Task 5: (10 points)\n",
    "\n",
    "* Again, repeat Task 3 with the following new architecture of the neural network:\n",
    "\n",
    "![Task 5 ANN architecture](figures/nn-3.png)\n",
    "\n",
    "* Input layer will still have 11 units as the dimension of training set (i.e, number of columns = 11).\n",
    "* Hidden-layer-1: 8 neurons, with relu activation\n",
    "* Hidden-layer-2: 4 neurons, with relu activation,\n",
    "* Hidden-layer-3: 2 neurons, with relu activation,\n",
    "* Output-layer: 1 neuron with sigmoid.\n",
    "\n"
   ]
  },
  {
   "cell_type": "code",
   "execution_count": 36,
   "metadata": {},
   "outputs": [],
   "source": [
    "#Your solution goes here ...\n"
   ]
  },
  {
   "cell_type": "markdown",
   "metadata": {},
   "source": [
    "# That's all folks! Thanks for your effort. \n",
    "\n",
    "Now, do the following to earn credit --\n",
    "\n",
    "0. Setting up:\n",
    "    - Make sure you actually experiment with this assignment. I would encourage (again) you to go through the possible compute resource you can use (e.g., Kaggle, Google Colab, etc.).\n",
    "    - It's always better to work in python virtual environment. Here are some resources for you to create and work in virtual environments [[win+mac+ubuntu](https://ashiskb.info/posts/2022/09/biswas/blog-1-python-venv/)][[windows+gpu](https://ashiskb.info/posts/2023/08/biswas/blog-win10-tensorflow/)][[ubuntu+gpu](https://ashiskb.info/posts/2023/08/biswas/blog-ubuntu-tensorflow/)]\n",
    "1. Please make sure to execute each cell in this jupyter notebook, and hit the 'Save' button, or go \"File > Save and Checkpoint\" menu option to save the notebook.\n",
    "2. Submit this notebook \"2025-Fall-DL-hw2.ipynb\" into Canvas \"hw-2\" entry. \n",
    "3. Done!\n"
   ]
  },
  {
   "cell_type": "markdown",
   "metadata": {},
   "source": []
  }
 ],
 "metadata": {
  "celltoolbar": "Create Assignment",
  "kernelspec": {
   "display_name": "Python 3",
   "language": "python",
   "name": "python3"
  },
  "language_info": {
   "codemirror_mode": {
    "name": "ipython",
    "version": 3
   },
   "file_extension": ".py",
   "mimetype": "text/x-python",
   "name": "python",
   "nbconvert_exporter": "python",
   "pygments_lexer": "ipython3",
   "version": "3.11.5"
  }
 },
 "nbformat": 4,
 "nbformat_minor": 4
}
