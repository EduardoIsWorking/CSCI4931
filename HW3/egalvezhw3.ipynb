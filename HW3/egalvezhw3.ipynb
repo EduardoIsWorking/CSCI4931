{
 "cells": [
  {
   "cell_type": "code",
   "execution_count": 1,
   "id": "71a6c401",
   "metadata": {
    "execution": {
     "iopub.execute_input": "2025-10-27T01:54:16.278950Z",
     "iopub.status.busy": "2025-10-27T01:54:16.278708Z",
     "iopub.status.idle": "2025-10-27T01:54:16.300682Z",
     "shell.execute_reply": "2025-10-27T01:54:16.299907Z"
    },
    "papermill": {
     "duration": 0.026387,
     "end_time": "2025-10-27T01:54:16.301811",
     "exception": false,
     "start_time": "2025-10-27T01:54:16.275424",
     "status": "completed"
    },
    "tags": []
   },
   "outputs": [
    {
     "name": "stdout",
     "output_type": "stream",
     "text": [
      "True\n",
      "True\n",
      "True\n",
      "True\n"
     ]
    }
   ],
   "source": [
    "from pathlib import Path\n",
    "print((Path(\"/kaggle/input/celeba-dataset\")/\"img_align_celeba\").exists())\n",
    "print((Path(\"/kaggle/input/celeba-dataset\")/\"list_attr_celeba.csv\").exists())\n",
    "print((Path(\"/kaggle/input/celeba-dataset\")/\"list_eval_partition.csv\").exists())\n",
    "print((Path(\"/kaggle/input/hat-or-no-hat-that-is-the-question-fall-25/test_set/test_set\")).exists())\n"
   ]
  },
  {
   "cell_type": "code",
   "execution_count": 2,
   "id": "f5d5a01a",
   "metadata": {
    "_cell_guid": "b1076dfc-b9ad-4769-8c92-a6c4dae69d19",
    "_uuid": "8f2839f25d086af736a60e9eeb907d3b93b6e0e5",
    "execution": {
     "iopub.execute_input": "2025-10-27T01:54:16.307091Z",
     "iopub.status.busy": "2025-10-27T01:54:16.306751Z",
     "iopub.status.idle": "2025-10-27T01:54:39.400255Z",
     "shell.execute_reply": "2025-10-27T01:54:39.399459Z"
    },
    "papermill": {
     "duration": 23.097462,
     "end_time": "2025-10-27T01:54:39.401657",
     "exception": false,
     "start_time": "2025-10-27T01:54:16.304195",
     "status": "completed"
    },
    "tags": []
   },
   "outputs": [
    {
     "name": "stderr",
     "output_type": "stream",
     "text": [
      "2025-10-27 01:54:21.427077: E external/local_xla/xla/stream_executor/cuda/cuda_fft.cc:477] Unable to register cuFFT factory: Attempting to register factory for plugin cuFFT when one has already been registered\n",
      "WARNING: All log messages before absl::InitializeLog() is called are written to STDERR\n",
      "E0000 00:00:1761530061.885123      19 cuda_dnn.cc:8310] Unable to register cuDNN factory: Attempting to register factory for plugin cuDNN when one has already been registered\n",
      "E0000 00:00:1761530062.009357      19 cuda_blas.cc:1418] Unable to register cuBLAS factory: Attempting to register factory for plugin cuBLAS when one has already been registered\n"
     ]
    }
   ],
   "source": [
    "# ===== 0) Setup =====\n",
    "from pathlib import Path\n",
    "import numpy as np, pandas as pd, tensorflow as tf\n",
    "\n",
    "tf.keras.mixed_precision.set_global_policy(\"mixed_float16\")\n",
    "\n",
    "COMP_ROOT = Path(\"/kaggle/input/hat-or-no-hat-that-is-the-question-fall-25\")\n",
    "TEST_DIR  = COMP_ROOT/\"test_set\"/\"test_set\"          # nested folder\n",
    "\n",
    "CELEBA_ROOT = Path(\"/kaggle/input/celeba-dataset\")\n",
    "ATTR   = CELEBA_ROOT/\"list_attr_celeba.csv\"\n",
    "SPLIT  = CELEBA_ROOT/\"list_eval_partition.csv\"\n",
    "IMG_DIR= CELEBA_ROOT/\"img_align_celeba\"/\"img_align_celeba\"\n",
    "\n",
    "WORK_DIR = Path(\"/kaggle/working\"); WORK_DIR.mkdir(exist_ok=True)\n",
    "IMG_SIZE = (224,224); BATCH = 64; SEED = 42\n",
    "tf.keras.utils.set_random_seed(SEED)\n"
   ]
  },
  {
   "cell_type": "code",
   "execution_count": 3,
   "id": "a94af630",
   "metadata": {
    "execution": {
     "iopub.execute_input": "2025-10-27T01:54:39.407375Z",
     "iopub.status.busy": "2025-10-27T01:54:39.406915Z",
     "iopub.status.idle": "2025-10-27T01:54:42.201390Z",
     "shell.execute_reply": "2025-10-27T01:54:42.200553Z"
    },
    "papermill": {
     "duration": 2.798626,
     "end_time": "2025-10-27T01:54:42.202854",
     "exception": false,
     "start_time": "2025-10-27T01:54:39.404228",
     "status": "completed"
    },
    "tags": []
   },
   "outputs": [],
   "source": [
    "# ===== 1) Labels, paths, 5k subset =====\n",
    "attrs = pd.read_csv(ATTR)\n",
    "if \"image_id\" not in attrs.columns:\n",
    "    attrs.rename(columns={attrs.columns[0]:\"image_id\"}, inplace=True)\n",
    "parts = pd.read_csv(SPLIT); parts.columns = [\"image_id\",\"split\"]\n",
    "\n",
    "df = attrs.merge(parts, on=\"image_id\")\n",
    "df[\"label\"] = (df[\"Wearing_Hat\"]==1).astype(\"int8\")          # 1=Hat, 0=No Hat\n",
    "df[\"filepath\"] = df[\"image_id\"].apply(lambda x: str((IMG_DIR/x).as_posix()))\n",
    "\n",
    "train_full = df[df[\"split\"]==0].reset_index(drop=True)\n",
    "\n",
    "TARGET = 10000\n",
    "pos, neg = train_full[train_full.label==1], train_full[train_full.label==0]\n",
    "n_pos = min(len(pos), TARGET//2); n_neg = TARGET - n_pos\n",
    "sub5k = pd.concat([\n",
    "    pos.sample(n=n_pos, random_state=SEED),\n",
    "    neg.sample(n=n_neg, random_state=SEED)\n",
    "]).sample(frac=1.0, random_state=SEED).reset_index(drop=True)\n",
    "\n",
    "# keep a manifest\n",
    "(sub5k_path := WORK_DIR/\"celeba_manifest_5k.csv\")\n",
    "sub5k.to_csv(sub5k_path, index=False)\n"
   ]
  },
  {
   "cell_type": "code",
   "execution_count": 4,
   "id": "211cd3d3",
   "metadata": {
    "execution": {
     "iopub.execute_input": "2025-10-27T01:54:42.208587Z",
     "iopub.status.busy": "2025-10-27T01:54:42.207988Z",
     "iopub.status.idle": "2025-10-27T01:54:46.196242Z",
     "shell.execute_reply": "2025-10-27T01:54:46.195432Z"
    },
    "papermill": {
     "duration": 3.992544,
     "end_time": "2025-10-27T01:54:46.197731",
     "exception": false,
     "start_time": "2025-10-27T01:54:42.205187",
     "status": "completed"
    },
    "tags": []
   },
   "outputs": [
    {
     "name": "stderr",
     "output_type": "stream",
     "text": [
      "I0000 00:00:1761530083.973319      19 gpu_device.cc:2022] Created device /job:localhost/replica:0/task:0/device:GPU:0 with 13942 MB memory:  -> device: 0, name: Tesla T4, pci bus id: 0000:00:04.0, compute capability: 7.5\n",
      "I0000 00:00:1761530083.973998      19 gpu_device.cc:2022] Created device /job:localhost/replica:0/task:0/device:GPU:1 with 13942 MB memory:  -> device: 1, name: Tesla T4, pci bus id: 0000:00:05.0, compute capability: 7.5\n"
     ]
    }
   ],
   "source": [
    "# ===== 2) Split, class weights, datasets =====\n",
    "from sklearn.model_selection import train_test_split\n",
    "\n",
    "train_5k, val_5k = train_test_split(\n",
    "    sub5k, test_size=0.1, stratify=sub5k[\"label\"], random_state=SEED\n",
    ")\n",
    "\n",
    "# optional class weights (only if imbalanced)\n",
    "pos_ct = int((train_5k.label == 1).sum())\n",
    "neg_ct = int((train_5k.label == 0).sum())\n",
    "total  = pos_ct + neg_ct\n",
    "imbalance_ratio = min(pos_ct, neg_ct) / max(pos_ct, neg_ct)\n",
    "class_weight = {\n",
    "    0: total/(2.0*neg_ct),\n",
    "    1: total/(2.0*pos_ct),\n",
    "} if imbalance_ratio < 0.7 else None\n",
    "\n",
    "def make_ds(frame, training):\n",
    "    paths = frame[\"filepath\"].values\n",
    "    labels = frame[\"label\"].values.astype(\"float32\")\n",
    "    ds = tf.data.Dataset.from_tensor_slices((paths, labels))\n",
    "    def _load(p, y):\n",
    "        x = tf.io.read_file(p); x = tf.image.decode_jpeg(x, 3)\n",
    "        x = tf.image.resize(x, IMG_SIZE)\n",
    "        if training:\n",
    "            x = tf.image.random_flip_left_right(x)\n",
    "            x = tf.image.random_brightness(x, 0.15)\n",
    "            x = tf.image.random_contrast(x, 0.8, 1.2)\n",
    "            x = tf.image.random_saturation(x, 0.8, 1.2)\n",
    "            crop = tf.image.random_crop(\n",
    "                tf.image.resize_with_pad(x, IMG_SIZE[0]+16, IMG_SIZE[1]+16),\n",
    "                size=(IMG_SIZE[0], IMG_SIZE[1], 3)\n",
    "            )\n",
    "            x = tf.where(tf.random.uniform([])<0.5, crop, x)\n",
    "        return tf.clip_by_value(x/255.0, 0., 1.), y\n",
    "    ds = ds.map(_load, num_parallel_calls=tf.data.AUTOTUNE)\n",
    "    if training: ds = ds.shuffle(4096, seed=SEED)\n",
    "    return ds.batch(BATCH).prefetch(tf.data.AUTOTUNE)\n",
    "\n",
    "train_ds = make_ds(train_5k, True)\n",
    "val_ds   = make_ds(val_5k,   False)\n"
   ]
  },
  {
   "cell_type": "code",
   "execution_count": 5,
   "id": "03a09053",
   "metadata": {
    "execution": {
     "iopub.execute_input": "2025-10-27T01:54:46.203015Z",
     "iopub.status.busy": "2025-10-27T01:54:46.202806Z",
     "iopub.status.idle": "2025-10-27T02:07:53.825856Z",
     "shell.execute_reply": "2025-10-27T02:07:53.825166Z"
    },
    "papermill": {
     "duration": 787.626885,
     "end_time": "2025-10-27T02:07:53.826965",
     "exception": false,
     "start_time": "2025-10-27T01:54:46.200080",
     "status": "completed"
    },
    "tags": []
   },
   "outputs": [
    {
     "name": "stdout",
     "output_type": "stream",
     "text": [
      "Epoch 1/20\n"
     ]
    },
    {
     "name": "stderr",
     "output_type": "stream",
     "text": [
      "WARNING: All log messages before absl::InitializeLog() is called are written to STDERR\n",
      "I0000 00:00:1761530189.223778      61 service.cc:148] XLA service 0x7d5434002930 initialized for platform CUDA (this does not guarantee that XLA will be used). Devices:\n",
      "I0000 00:00:1761530189.225384      61 service.cc:156]   StreamExecutor device (0): Tesla T4, Compute Capability 7.5\n",
      "I0000 00:00:1761530189.225407      61 service.cc:156]   StreamExecutor device (1): Tesla T4, Compute Capability 7.5\n",
      "I0000 00:00:1761530195.498524      61 cuda_dnn.cc:529] Loaded cuDNN version 90300\n",
      "I0000 00:00:1761530247.332733      61 device_compiler.h:188] Compiled cluster using XLA!  This line is logged at most once for the lifetime of the process.\n"
     ]
    },
    {
     "name": "stdout",
     "output_type": "stream",
     "text": [
      "\u001b[1m141/141\u001b[0m \u001b[32m━━━━━━━━━━━━━━━━━━━━\u001b[0m\u001b[37m\u001b[0m \u001b[1m295s\u001b[0m 963ms/step - accuracy: 0.6945 - auc: 0.7519 - loss: 0.6254 - val_accuracy: 0.5000 - val_auc: 0.5000 - val_loss: 1.5555 - learning_rate: 0.0010\n",
      "Epoch 2/20\n",
      "\u001b[1m141/141\u001b[0m \u001b[32m━━━━━━━━━━━━━━━━━━━━\u001b[0m\u001b[37m\u001b[0m \u001b[1m26s\u001b[0m 137ms/step - accuracy: 0.9114 - auc: 0.9665 - loss: 0.2321 - val_accuracy: 0.5000 - val_auc: 0.5010 - val_loss: 2.3898 - learning_rate: 0.0010\n",
      "Epoch 3/20\n",
      "\u001b[1m141/141\u001b[0m \u001b[32m━━━━━━━━━━━━━━━━━━━━\u001b[0m\u001b[37m\u001b[0m \u001b[1m27s\u001b[0m 140ms/step - accuracy: 0.9409 - auc: 0.9840 - loss: 0.1580 - val_accuracy: 0.5000 - val_auc: 0.8460 - val_loss: 1.3885 - learning_rate: 0.0010\n",
      "Epoch 4/20\n",
      "\u001b[1m141/141\u001b[0m \u001b[32m━━━━━━━━━━━━━━━━━━━━\u001b[0m\u001b[37m\u001b[0m \u001b[1m26s\u001b[0m 137ms/step - accuracy: 0.9558 - auc: 0.9880 - loss: 0.1302 - val_accuracy: 0.6840 - val_auc: 0.9435 - val_loss: 0.8386 - learning_rate: 0.0010\n",
      "Epoch 5/20\n",
      "\u001b[1m141/141\u001b[0m \u001b[32m━━━━━━━━━━━━━━━━━━━━\u001b[0m\u001b[37m\u001b[0m \u001b[1m27s\u001b[0m 140ms/step - accuracy: 0.9697 - auc: 0.9934 - loss: 0.0912 - val_accuracy: 0.9130 - val_auc: 0.9771 - val_loss: 0.2404 - learning_rate: 0.0010\n",
      "Epoch 6/20\n",
      "\u001b[1m141/141\u001b[0m \u001b[32m━━━━━━━━━━━━━━━━━━━━\u001b[0m\u001b[37m\u001b[0m \u001b[1m25s\u001b[0m 134ms/step - accuracy: 0.9749 - auc: 0.9964 - loss: 0.0696 - val_accuracy: 0.9120 - val_auc: 0.9761 - val_loss: 0.2849 - learning_rate: 0.0010\n",
      "Epoch 7/20\n",
      "\u001b[1m141/141\u001b[0m \u001b[32m━━━━━━━━━━━━━━━━━━━━\u001b[0m\u001b[37m\u001b[0m \u001b[1m26s\u001b[0m 137ms/step - accuracy: 0.9789 - auc: 0.9977 - loss: 0.0577 - val_accuracy: 0.9440 - val_auc: 0.9805 - val_loss: 0.1882 - learning_rate: 0.0010\n",
      "Epoch 8/20\n",
      "\u001b[1m141/141\u001b[0m \u001b[32m━━━━━━━━━━━━━━━━━━━━\u001b[0m\u001b[37m\u001b[0m \u001b[1m26s\u001b[0m 134ms/step - accuracy: 0.9814 - auc: 0.9983 - loss: 0.0467 - val_accuracy: 0.9320 - val_auc: 0.9649 - val_loss: 0.3060 - learning_rate: 0.0010\n",
      "Epoch 9/20\n",
      "\u001b[1m141/141\u001b[0m \u001b[32m━━━━━━━━━━━━━━━━━━━━\u001b[0m\u001b[37m\u001b[0m \u001b[1m25s\u001b[0m 132ms/step - accuracy: 0.9847 - auc: 0.9984 - loss: 0.0458 - val_accuracy: 0.9420 - val_auc: 0.9812 - val_loss: 0.1959 - learning_rate: 0.0010\n",
      "Epoch 10/20\n",
      "\u001b[1m141/141\u001b[0m \u001b[32m━━━━━━━━━━━━━━━━━━━━\u001b[0m\u001b[37m\u001b[0m \u001b[1m27s\u001b[0m 138ms/step - accuracy: 0.9878 - auc: 0.9982 - loss: 0.0383 - val_accuracy: 0.9580 - val_auc: 0.9861 - val_loss: 0.1511 - learning_rate: 2.0000e-04\n",
      "Epoch 11/20\n",
      "\u001b[1m141/141\u001b[0m \u001b[32m━━━━━━━━━━━━━━━━━━━━\u001b[0m\u001b[37m\u001b[0m \u001b[1m25s\u001b[0m 131ms/step - accuracy: 0.9946 - auc: 0.9993 - loss: 0.0203 - val_accuracy: 0.9620 - val_auc: 0.9875 - val_loss: 0.1517 - learning_rate: 2.0000e-04\n",
      "Epoch 12/20\n",
      "\u001b[1m141/141\u001b[0m \u001b[32m━━━━━━━━━━━━━━━━━━━━\u001b[0m\u001b[37m\u001b[0m \u001b[1m26s\u001b[0m 137ms/step - accuracy: 0.9957 - auc: 0.9987 - loss: 0.0187 - val_accuracy: 0.9590 - val_auc: 0.9850 - val_loss: 0.1500 - learning_rate: 2.0000e-04\n",
      "Epoch 13/20\n",
      "\u001b[1m141/141\u001b[0m \u001b[32m━━━━━━━━━━━━━━━━━━━━\u001b[0m\u001b[37m\u001b[0m \u001b[1m25s\u001b[0m 133ms/step - accuracy: 0.9972 - auc: 0.9995 - loss: 0.0122 - val_accuracy: 0.9570 - val_auc: 0.9855 - val_loss: 0.1571 - learning_rate: 2.0000e-04\n",
      "Epoch 14/20\n",
      "\u001b[1m141/141\u001b[0m \u001b[32m━━━━━━━━━━━━━━━━━━━━\u001b[0m\u001b[37m\u001b[0m \u001b[1m26s\u001b[0m 139ms/step - accuracy: 0.9944 - auc: 0.9995 - loss: 0.0220 - val_accuracy: 0.9630 - val_auc: 0.9870 - val_loss: 0.1496 - learning_rate: 2.0000e-04\n",
      "Epoch 15/20\n",
      "\u001b[1m141/141\u001b[0m \u001b[32m━━━━━━━━━━━━━━━━━━━━\u001b[0m\u001b[37m\u001b[0m \u001b[1m25s\u001b[0m 132ms/step - accuracy: 0.9970 - auc: 0.9994 - loss: 0.0126 - val_accuracy: 0.9580 - val_auc: 0.9876 - val_loss: 0.1566 - learning_rate: 2.0000e-04\n",
      "Epoch 16/20\n",
      "\u001b[1m141/141\u001b[0m \u001b[32m━━━━━━━━━━━━━━━━━━━━\u001b[0m\u001b[37m\u001b[0m \u001b[1m25s\u001b[0m 133ms/step - accuracy: 0.9952 - auc: 0.9997 - loss: 0.0147 - val_accuracy: 0.9650 - val_auc: 0.9835 - val_loss: 0.1674 - learning_rate: 2.0000e-04\n",
      "Epoch 17/20\n",
      "\u001b[1m141/141\u001b[0m \u001b[32m━━━━━━━━━━━━━━━━━━━━\u001b[0m\u001b[37m\u001b[0m \u001b[1m26s\u001b[0m 132ms/step - accuracy: 0.9958 - auc: 0.9997 - loss: 0.0123 - val_accuracy: 0.9630 - val_auc: 0.9858 - val_loss: 0.1593 - learning_rate: 4.0000e-05\n",
      "Epoch 18/20\n",
      "\u001b[1m141/141\u001b[0m \u001b[32m━━━━━━━━━━━━━━━━━━━━\u001b[0m\u001b[37m\u001b[0m \u001b[1m25s\u001b[0m 132ms/step - accuracy: 0.9964 - auc: 0.9999 - loss: 0.0092 - val_accuracy: 0.9630 - val_auc: 0.9851 - val_loss: 0.1640 - learning_rate: 4.0000e-05\n",
      "Epoch 19/20\n",
      "\u001b[1m141/141\u001b[0m \u001b[32m━━━━━━━━━━━━━━━━━━━━\u001b[0m\u001b[37m\u001b[0m \u001b[1m26s\u001b[0m 133ms/step - accuracy: 0.9975 - auc: 0.9994 - loss: 0.0125 - val_accuracy: 0.9640 - val_auc: 0.9859 - val_loss: 0.1579 - learning_rate: 8.0000e-06\n",
      "Epoch 20/20\n",
      "\u001b[1m141/141\u001b[0m \u001b[32m━━━━━━━━━━━━━━━━━━━━\u001b[0m\u001b[37m\u001b[0m \u001b[1m26s\u001b[0m 133ms/step - accuracy: 0.9968 - auc: 0.9998 - loss: 0.0133 - val_accuracy: 0.9620 - val_auc: 0.9859 - val_loss: 0.1570 - learning_rate: 8.0000e-06\n"
     ]
    },
    {
     "data": {
      "text/plain": [
       "<keras.src.callbacks.history.History at 0x7d54c7930c50>"
      ]
     },
     "execution_count": 5,
     "metadata": {},
     "output_type": "execute_result"
    }
   ],
   "source": [
    "# ===== 3) Model and training =====\n",
    "from tensorflow import keras as K\n",
    "\n",
    "base = K.applications.EfficientNetB0(include_top=False, weights=None,\n",
    "                                     input_shape=(*IMG_SIZE,3))\n",
    "inp = K.Input((*IMG_SIZE,3))\n",
    "x = base(inp, training=True)\n",
    "x = K.layers.GlobalAveragePooling2D()(x)\n",
    "x = K.layers.Dropout(0.3)(x)\n",
    "out = K.layers.Dense(1, activation=\"sigmoid\", dtype=\"float32\")(x)   # FP32 head\n",
    "model = K.Model(inp, out)\n",
    "\n",
    "model.compile(optimizer=K.optimizers.Adam(1e-3),\n",
    "              loss=\"binary_crossentropy\",\n",
    "              metrics=[\"accuracy\", K.metrics.AUC(name=\"auc\")])\n",
    "\n",
    "ckpt = K.callbacks.ModelCheckpoint(str(WORK_DIR/\"best.h5\"),\n",
    "                                   save_best_only=True, monitor=\"val_loss\", mode=\"min\")\n",
    "es   = K.callbacks.EarlyStopping(patience=6, restore_best_weights=True,\n",
    "                                 monitor=\"val_loss\", mode=\"min\")\n",
    "rlrp = K.callbacks.ReduceLROnPlateau(patience=2, factor=0.2)\n",
    "\n",
    "model.fit(train_ds, validation_data=val_ds, epochs=20,\n",
    "          callbacks=[ckpt, es, rlrp], class_weight=class_weight, verbose=1)\n"
   ]
  },
  {
   "cell_type": "code",
   "execution_count": 6,
   "id": "e2989184",
   "metadata": {
    "execution": {
     "iopub.execute_input": "2025-10-27T02:07:54.062901Z",
     "iopub.status.busy": "2025-10-27T02:07:54.062655Z",
     "iopub.status.idle": "2025-10-27T02:08:10.665091Z",
     "shell.execute_reply": "2025-10-27T02:08:10.664473Z"
    },
    "papermill": {
     "duration": 16.720686,
     "end_time": "2025-10-27T02:08:10.666608",
     "exception": false,
     "start_time": "2025-10-27T02:07:53.945922",
     "status": "completed"
    },
    "tags": []
   },
   "outputs": [],
   "source": [
    "# ===== 4) Threshold on validation =====\n",
    "from sklearn.metrics import roc_curve\n",
    "val_probs = model.predict(val_ds, verbose=0).ravel()\n",
    "val_true  = val_5k[\"label\"].to_numpy().astype(int)\n",
    "fpr, tpr, thr = roc_curve(val_true, val_probs)\n",
    "tau = float(thr[(tpr - fpr).argmax()])\n"
   ]
  },
  {
   "cell_type": "code",
   "execution_count": 7,
   "id": "b3786fa5",
   "metadata": {
    "execution": {
     "iopub.execute_input": "2025-10-27T02:08:10.940767Z",
     "iopub.status.busy": "2025-10-27T02:08:10.940502Z",
     "iopub.status.idle": "2025-10-27T02:09:49.391796Z",
     "shell.execute_reply": "2025-10-27T02:09:49.391115Z"
    },
    "papermill": {
     "duration": 98.569029,
     "end_time": "2025-10-27T02:09:49.393461",
     "exception": false,
     "start_time": "2025-10-27T02:08:10.824432",
     "status": "completed"
    },
    "tags": []
   },
   "outputs": [],
   "source": [
    "# ===== 5) Test inference (robust) + submission =====\n",
    "from PIL import Image, ImageFile\n",
    "ImageFile.LOAD_TRUNCATED_IMAGES = True\n",
    "\n",
    "test_paths = sorted(Path(TEST_DIR).rglob(\"*.jpg\"))\n",
    "\n",
    "# split into TF-decodable vs fallback\n",
    "good, bad = [], []\n",
    "for p in test_paths:\n",
    "    try:\n",
    "        _ = tf.io.decode_image(tf.io.read_file(str(p)), channels=3, expand_animations=False)\n",
    "        good.append(p)\n",
    "    except Exception:\n",
    "        bad.append(p)\n",
    "\n",
    "def load_for_infer(p):\n",
    "    b = tf.io.read_file(p)\n",
    "    x = tf.io.decode_image(b, channels=3, expand_animations=False)\n",
    "    x.set_shape([None, None, 3])\n",
    "    x = tf.image.resize(x, IMG_SIZE)\n",
    "    return x/255.0\n",
    "\n",
    "infer_ds = (tf.data.Dataset.from_tensor_slices([str(p) for p in good])\n",
    "            .map(load_for_infer, num_parallel_calls=tf.data.AUTOTUNE)\n",
    "            .batch(64).prefetch(tf.data.AUTOTUNE))\n",
    "probs_good = model.predict(infer_ds, verbose=0).ravel()\n",
    "\n",
    "arr_bad = []\n",
    "for p in bad:\n",
    "    im = Image.open(p).convert(\"RGB\").resize(IMG_SIZE, Image.BILINEAR)\n",
    "    arr_bad.append(np.asarray(im, dtype=np.float32)/255.0)\n",
    "probs_bad = model.predict(np.stack(arr_bad), batch_size=8, verbose=0).ravel() if bad else np.array([])\n",
    "\n",
    "proba_map = {p: pr for p, pr in zip(good, probs_good)}\n",
    "proba_map.update({p: pr for p, pr in zip(bad, probs_bad)})\n",
    "probs = np.array([proba_map[p] for p in test_paths], dtype=np.float32)\n",
    "\n",
    "labels = np.where(probs >= tau, \"Hat\", \"No Hat\")\n",
    "ids = [p.stem for p in test_paths]\n",
    "\n",
    "pd.DataFrame({\"id\": ids, \"class\": labels}).to_csv(WORK_DIR/\"submission.csv\", index=False)\n"
   ]
  },
  {
   "cell_type": "code",
   "execution_count": 8,
   "id": "95f1ddd8",
   "metadata": {
    "execution": {
     "iopub.execute_input": "2025-10-27T02:09:49.626027Z",
     "iopub.status.busy": "2025-10-27T02:09:49.625760Z",
     "iopub.status.idle": "2025-10-27T02:09:50.180135Z",
     "shell.execute_reply": "2025-10-27T02:09:50.179353Z"
    },
    "papermill": {
     "duration": 0.671741,
     "end_time": "2025-10-27T02:09:50.181659",
     "exception": false,
     "start_time": "2025-10-27T02:09:49.509918",
     "status": "completed"
    },
    "tags": []
   },
   "outputs": [
    {
     "name": "stdout",
     "output_type": "stream",
     "text": [
      "total 51M\r\n",
      "-rw-r--r-- 1 root root  47M Oct 27 02:05 best.h5\r\n",
      "-rw-r--r-- 1 root root 2.0M Oct 27 01:54 celeba_manifest_5k.csv\r\n",
      "---------- 1 root root 1.4M Oct 27 02:09 __notebook__.ipynb\r\n",
      "-rw-r--r-- 1 root root  56K Oct 27 02:09 submission.csv\r\n"
     ]
    }
   ],
   "source": [
    "!ls -lh /kaggle/working/"
   ]
  },
  {
   "cell_type": "code",
   "execution_count": null,
   "id": "42bee962",
   "metadata": {
    "papermill": {
     "duration": 0.117423,
     "end_time": "2025-10-27T02:09:50.415026",
     "exception": false,
     "start_time": "2025-10-27T02:09:50.297603",
     "status": "completed"
    },
    "tags": []
   },
   "outputs": [],
   "source": []
  }
 ],
 "metadata": {
  "kaggle": {
   "accelerator": "nvidiaTeslaT4",
   "dataSources": [
    {
     "databundleVersionId": 13991218,
     "sourceId": 117131,
     "sourceType": "competition"
    },
    {
     "datasetId": 29561,
     "sourceId": 37705,
     "sourceType": "datasetVersion"
    },
    {
     "sourceId": 32036663,
     "sourceType": "kernelVersion"
    }
   ],
   "dockerImageVersionId": 31154,
   "isGpuEnabled": true,
   "isInternetEnabled": true,
   "language": "python",
   "sourceType": "notebook"
  },
  "kernelspec": {
   "display_name": "Python 3",
   "language": "python",
   "name": "python3"
  },
  "language_info": {
   "codemirror_mode": {
    "name": "ipython",
    "version": 3
   },
   "file_extension": ".py",
   "mimetype": "text/x-python",
   "name": "python",
   "nbconvert_exporter": "python",
   "pygments_lexer": "ipython3",
   "version": "3.11.13"
  },
  "papermill": {
   "default_parameters": {},
   "duration": 944.035137,
   "end_time": "2025-10-27T02:09:55.318824",
   "environment_variables": {},
   "exception": null,
   "input_path": "__notebook__.ipynb",
   "output_path": "__notebook__.ipynb",
   "parameters": {},
   "start_time": "2025-10-27T01:54:11.283687",
   "version": "2.6.0"
  }
 },
 "nbformat": 4,
 "nbformat_minor": 5
}
