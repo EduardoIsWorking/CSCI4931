{
  "cells": [
    {
      "cell_type": "markdown",
      "id": "618633e3",
      "metadata": {
        "id": "618633e3"
      },
      "source": [
        "\n",
        "# Attention & Transformers\n",
        "\n",
        "**Levels**\n",
        "1. Attention intuition with a toy example and heatmap\n",
        "2. Self-attention inside a Transformer encoder (BERT) — visualize attention\n",
        "3. Attention in action: summarization and a quick Vision Transformer map"
      ]
    },
    {
      "cell_type": "markdown",
      "id": "1bbcffc2",
      "metadata": {
        "id": "1bbcffc2"
      },
      "source": [
        "## Setup — run once"
      ]
    },
    {
      "cell_type": "code",
      "execution_count": 1,
      "id": "2f000db5",
      "metadata": {
        "nbgrader": {
          "grade": false,
          "locked": false,
          "solution": false,
          "task": false
        },
        "id": "2f000db5"
      },
      "outputs": [],
      "source": [
        "\n",
        "# If needed, uncomment to install\n",
        "%pip install -q torch torchvision torchaudio transformers matplotlib pillow numpy requests\n"
      ]
    },
    {
      "cell_type": "markdown",
      "id": "eed2bb04",
      "metadata": {
        "id": "eed2bb04"
      },
      "source": [
        "\n",
        "## Level 1 — *Where should the model look?* (Toy Attention)\n",
        "Visualize scaled dot-product attention weights for the pronoun **\"it\"**.\n"
      ]
    },
    {
      "cell_type": "code",
      "execution_count": 4,
      "id": "7c712712",
      "metadata": {
        "nbgrader": {
          "grade": false,
          "locked": false,
          "solution": false,
          "task": false
        },
        "id": "7c712712",
        "outputId": "a3c0d524-10fe-4045-af22-ecc4e93f9bb9",
        "colab": {
          "base_uri": "https://localhost:8080/",
          "height": 187
        }
      },
      "outputs": [
        {
          "output_type": "display_data",
          "data": {
            "text/plain": [
              "<Figure size 1000x180 with 2 Axes>"
            ],
            "image/png": "[encoded data removed]"
          },
          "metadata": {}
        }
      ],
      "source": [
        "\n",
        "import numpy as np\n",
        "import matplotlib.pyplot as plt\n",
        "\n",
        "tokens = [\"The\",\"animal\",\"didn't\",\"cross\",\"the\",\"road\",\"because\",\"it\",\"was\",\"narrow\"]\n",
        "\n",
        "np.random.seed(0)\n",
        "d = 4\n",
        "Q = np.random.randn(1, d)          # query for \"it\"\n",
        "K = np.random.randn(len(tokens), d) # keys for all tokens\n",
        "\n",
        "scale = np.sqrt(d)\n",
        "scores = (Q @ K.T) / scale\n",
        "weights = np.exp(scores - scores.max())\n",
        "weights = weights / weights.sum()\n",
        "\n",
        "plt.figure(figsize=(10, 1.8))\n",
        "plt.imshow(weights, aspect=\"auto\")\n",
        "plt.yticks([])\n",
        "plt.xticks(range(len(tokens)), tokens, rotation=45, ha=\"right\")\n",
        "plt.title(\"Attention over tokens for the query at 'it'\")\n",
        "plt.colorbar()\n",
        "plt.tight_layout()\n",
        "plt.show()\n"
      ]
    },
    {
      "cell_type": "markdown",
      "id": "6543b41b",
      "metadata": {
        "nbgrader": {
          "grade": false,
          "locked": false,
          "solution": false,
          "task": true
        },
        "id": "6543b41b"
      },
      "source": [
        "\n",
        "### Exercise 1 (2 pts)\n",
        "Edit the sentence so **\"it\"** refers to **\"road\"** (not **\"animal\"**). Re-run the plot cell and observe attention shift.\n"
      ]
    },
    {
      "cell_type": "code",
      "execution_count": 5,
      "id": "150a0f25",
      "metadata": {
        "nbgrader": {
          "grade": false,
          "locked": false,
          "solution": true,
          "task": true
        },
        "id": "150a0f25"
      },
      "outputs": [],
      "source": [
        "\n",
        "# YOUR TURN: Modify 'tokens' and re-run the plot cell above.\n",
        "tokens = [\"The\",\"animal\",\"didn't\",\"cross\",\"the\",\"road\",\"because\",\"it\",\"was\",\"narrow\"]\n",
        "pass\n"
      ]
    },
    {
      "cell_type": "code",
      "execution_count": 6,
      "id": "a4bb4f25",
      "metadata": {
        "nbgrader": {
          "grade": true,
          "grade_id": "ex1_sanity_v2",
          "locked": true,
          "points": 2,
          "solution": false,
          "task": false
        },
        "id": "a4bb4f25"
      },
      "outputs": [],
      "source": [
        "\n",
        "# (Graded sanity check 2 pts)\n",
        "assert isinstance(tokens, list) and all(isinstance(t, str) for t in tokens)\n"
      ]
    },
    {
      "cell_type": "markdown",
      "id": "5edc8ff2",
      "metadata": {
        "id": "5edc8ff2"
      },
      "source": [
        "\n",
        "## Level 2 — Self-Attention in BERT (Encoder)\n",
        "We visualize the last layer's attention for a sentence (downloads model on first run).\n"
      ]
    },
    {
      "cell_type": "code",
      "execution_count": 19,
      "id": "508402a2",
      "metadata": {
        "nbgrader": {
          "grade": false,
          "locked": false,
          "solution": false,
          "task": false
        },
        "id": "508402a2",
        "outputId": "5d0e8142-2d70-4431-963c-f86bcc25cf40",
        "colab": {
          "base_uri": "https://localhost:8080/",
          "height": 524
        }
      },
      "outputs": [
        {
          "output_type": "display_data",
          "data": {
            "text/plain": [
              "<Figure size 600x500 with 2 Axes>"
            ],
            "image/png": "[encoded data removed]"
          },
          "metadata": {}
        },
        {
          "output_type": "stream",
          "name": "stdout",
          "text": [
            "Tokens: ['[CLS]', 'the', 'cat', 'sat', 'on', 'the', 'mat', 'because', 'it', 'was', 'gross', '.', '[SEP]']\n"
          ]
        }
      ],
      "source": [
        "\n",
        "import torch\n",
        "from transformers import AutoTokenizer, AutoModel\n",
        "import matplotlib.pyplot as plt\n",
        "\n",
        "device = \"cuda\" if torch.cuda.is_available() else \"cpu\"\n",
        "tokenizer = AutoTokenizer.from_pretrained(\"bert-base-uncased\")\n",
        "model = AutoModel.from_pretrained(\"bert-base-uncased\", output_attentions=True).to(device)\n",
        "\n",
        "sentence = \"The cat sat on the mat because it was gross.\"\n",
        "inputs = tokenizer(sentence, return_tensors=\"pt\").to(device)\n",
        "with torch.no_grad():\n",
        "    outputs = model(**inputs)\n",
        "\n",
        "attentions = outputs.attentions  # (layers, batch, heads, seq, seq)\n",
        "last = attentions[-1][0]         # (heads, seq, seq)\n",
        "head0 = last[0].cpu().numpy()\n",
        "\n",
        "plt.figure(figsize=(6,5))\n",
        "plt.imshow(head0, aspect=\"auto\")\n",
        "plt.title(\"BERT last-layer, head 0 attention\")\n",
        "plt.xlabel(\"Key/Value positions\")\n",
        "plt.ylabel(\"Query positions\")\n",
        "plt.colorbar()\n",
        "plt.tight_layout()\n",
        "plt.show()\n",
        "\n",
        "print(\"Tokens:\", tokenizer.convert_ids_to_tokens(inputs['input_ids'][0]))\n"
      ]
    },
    {
      "cell_type": "markdown",
      "id": "73ce19e6",
      "metadata": {
        "nbgrader": {
          "grade": false,
          "locked": false,
          "solution": false,
          "task": true
        },
        "id": "73ce19e6"
      },
      "source": [
        "\n",
        "### Exercise 2 (4 pts)\n",
        "Change the sentence so **\"it\"** refers to **\"mat\"** (not **\"cat\"**), then re-run the visualization.\n",
        "Describe what changes in the attention (2–4 sentences) below.\n"
      ]
    },
    {
      "cell_type": "markdown",
      "id": "8729680d",
      "metadata": {
        "nbgrader": {
          "grade": false,
          "locked": false,
          "solution": true,
          "task": true
        },
        "id": "8729680d"
      },
      "source": [
        "With the orignal \"tired\" prompt I saw that the Key/Value position of 12 was a lot more green or ~0.4 then in trying other words that should imply the mat instead of the cat it did change. \"cold\" for example lightened it up a bit but could still imply the cat. \"wet\" got even lighter and \"gross\" was the most interesting since it almost could not be misstaken for the cat, I did notice that basicly the last two Key/Value position colors 11 & 12 swaped compared to the original yellow&green to green&yellow."
      ]
    },
    {
      "cell_type": "code",
      "execution_count": 20,
      "id": "0efe02af",
      "metadata": {
        "nbgrader": {
          "grade": true,
          "grade_id": "ex2_auto_v2",
          "locked": true,
          "points": 4,
          "solution": false,
          "task": false
        },
        "id": "0efe02af",
        "outputId": "d51655aa-5c2b-4eca-b2a6-89c90a9e9a9b",
        "colab": {
          "base_uri": "https://localhost:8080/"
        }
      },
      "outputs": [
        {
          "output_type": "stream",
          "name": "stdout",
          "text": [
            "Auto-score suggestion (out of 4): 4\n"
          ]
        }
      ],
      "source": [
        "\n",
        "# Auto-check heuristic (4 pts): encourage both 'mat' and 'cat' in sentence.\n",
        "text = sentence.lower()\n",
        "score = 0\n",
        "if \"mat\" in text: score += 2\n",
        "if \"cat\" in text: score += 2\n",
        "print(\"Auto-score suggestion (out of 4):\", score)\n"
      ]
    },
    {
      "cell_type": "markdown",
      "id": "42f32394",
      "metadata": {
        "id": "42f32394"
      },
      "source": [
        "\n",
        "## Level 3 — Applications\n",
        "### A) Summarization\n"
      ]
    },
    {
      "cell_type": "code",
      "execution_count": 44,
      "id": "078b0bf3",
      "metadata": {
        "id": "078b0bf3",
        "outputId": "cead1f82-ecfe-4266-9860-800aba258d76",
        "colab": {
          "base_uri": "https://localhost:8080/"
        }
      },
      "outputs": [
        {
          "output_type": "stream",
          "name": "stderr",
          "text": [
            "Device set to use cpu\n"
          ]
        },
        {
          "output_type": "stream",
          "name": "stdout",
          "text": [
            "Transformers enable parallel sequence processing through self-attention. This has led to major improvements in tasks like\n"
          ]
        }
      ],
      "source": [
        "\n",
        "from transformers import pipeline\n",
        "summarizer = pipeline(\"summarization\", model=\"facebook/bart-large-cnn\")\n",
        "text = (\n",
        "    \"Transformers enable parallel sequence processing through self-attention, capturing long-range \"\n",
        "    \"dependencies and benefiting large-scale pretraining. This has led to major improvements in tasks \"\n",
        "    \"like machine translation, summarization, and question answering.\"\n",
        ")\n",
        "# print(summarizer(text, max_length=30, min_length=15, do_sample=False)[0]['summary_text'])\n",
        "print(summarizer(text, max_length=24, min_length=12, do_sample=False)[0]['summary_text'])\n"
      ]
    },
    {
      "cell_type": "markdown",
      "id": "c547c20c",
      "metadata": {
        "id": "c547c20c"
      },
      "source": [
        "\n",
        "### B) Vision Transformer — CLS→patch attention map\n"
      ]
    },
    {
      "cell_type": "code",
      "execution_count": 22,
      "id": "7d3f0b7e",
      "metadata": {
        "id": "7d3f0b7e"
      },
      "outputs": [],
      "source": [
        "import requests\n",
        "from PIL import Image\n",
        "from io import BytesIO\n",
        "import numpy as np\n",
        "import matplotlib.pyplot as plt\n",
        "import torch\n",
        "from transformers import ViTFeatureExtractor, ViTModel\n"
      ]
    },
    {
      "cell_type": "code",
      "execution_count": 35,
      "id": "8611ad25",
      "metadata": {
        "id": "8611ad25"
      },
      "outputs": [],
      "source": [
        "url = \"https://static.wikia.nocookie.net/89eae11d-79d3-421f-ae61-c134ebf037c0/scale-to-width/755\"\n",
        "img = Image.open(BytesIO(requests.get(url).content)).convert(\"RGB\")\n",
        "# img = Image.open(url).convert(\"RGB\")\n"
      ]
    },
    {
      "cell_type": "code",
      "execution_count": 36,
      "id": "4fb351f1",
      "metadata": {
        "id": "4fb351f1",
        "outputId": "f2df095f-beaf-42ad-ef45-1847bb5cc9fe",
        "colab": {
          "base_uri": "https://localhost:8080/"
        }
      },
      "outputs": [
        {
          "output_type": "stream",
          "name": "stderr",
          "text": [
            "Some weights of ViTModel were not initialized from the model checkpoint at google/vit-base-patch16-224 and are newly initialized: ['pooler.dense.bias', 'pooler.dense.weight']\n",
            "You should probably TRAIN this model on a down-stream task to be able to use it for predictions and inference.\n"
          ]
        }
      ],
      "source": [
        "extractor = ViTFeatureExtractor.from_pretrained(\"google/vit-base-patch16-224\")\n",
        "model = ViTModel.from_pretrained(\"google/vit-base-patch16-224\", output_attentions=True)\n"
      ]
    },
    {
      "cell_type": "code",
      "execution_count": 37,
      "id": "3cb38c85",
      "metadata": {
        "id": "3cb38c85"
      },
      "outputs": [],
      "source": [
        "inputs = extractor(images=img, return_tensors=\"pt\")\n",
        "with torch.no_grad():\n",
        "    out = model(**inputs)\n"
      ]
    },
    {
      "cell_type": "code",
      "execution_count": 38,
      "id": "1b31673f",
      "metadata": {
        "id": "1b31673f"
      },
      "outputs": [],
      "source": [
        "attn = out.attentions[-1][0,0]  # (seq, seq)\n",
        "cls_to_patches = attn[0,1:].numpy()\n",
        "side = int(np.sqrt(cls_to_patches.shape[0]))\n",
        "heat = cls_to_patches.reshape(side, side)\n"
      ]
    },
    {
      "cell_type": "code",
      "execution_count": 39,
      "id": "42eb5d5d",
      "metadata": {
        "id": "42eb5d5d",
        "outputId": "4bbbeaab-0877-4026-c6bc-170879722b81",
        "colab": {
          "base_uri": "https://localhost:8080/",
          "height": 407
        }
      },
      "outputs": [
        {
          "output_type": "display_data",
          "data": {
            "text/plain": [
              "<Figure size 400x400 with 2 Axes>"
            ],
            "image/png": "[encoded data removed]"
          },
          "metadata": {}
        }
      ],
      "source": [
        "plt.figure(figsize=(4,4))\n",
        "plt.imshow(heat)\n",
        "plt.title(\"ViT last-layer attention (CLS → patches)\")\n",
        "plt.axis(\"off\")\n",
        "plt.colorbar()\n",
        "plt.tight_layout()\n",
        "plt.show()\n"
      ]
    },
    {
      "cell_type": "markdown",
      "id": "2fff8953",
      "metadata": {
        "nbgrader": {
          "grade": false,
          "locked": false,
          "solution": false,
          "task": true
        },
        "id": "2fff8953"
      },
      "source": [
        "\n",
        "## Reflection (2 pts)\n",
        "Explain how attention differs from RNN-style context handling and why transformer parallelism matters (3–5 sentences).\n"
      ]
    },
    {
      "cell_type": "markdown",
      "id": "f6f55632",
      "metadata": {
        "nbgrader": {
          "grade": false,
          "locked": false,
          "solution": true,
          "task": true
        },
        "id": "f6f55632"
      },
      "source": [
        "The main difference would be in how the two handle context. RNN relies on sequential handling of the context while Attention handles all the context all to together at the same time. This concurrent handling allows transformers to run in parallel which is how we make use of modern hardware. It allows us to overcome previous limits of single GPUs and now we are able to tackle massive models as well because of this. In contrast RNNs are slower, not as good at tracking context, and lack scalibility."
      ]
    }
  ],
  "metadata": {
    "kernelspec": {
      "display_name": "venv-p310-torch2",
      "language": "python",
      "name": "python3"
    },
    "language_info": {
      "codemirror_mode": {
        "name": "ipython",
        "version": 3
      },
      "file_extension": ".py",
      "mimetype": "text/x-python",
      "name": "python",
      "nbconvert_exporter": "python",
      "pygments_lexer": "ipython3",
      "version": "3.10.15"
    },
    "colab": {
      "provenance": []
    }
  },
  "nbformat": 4,
  "nbformat_minor": 5
}